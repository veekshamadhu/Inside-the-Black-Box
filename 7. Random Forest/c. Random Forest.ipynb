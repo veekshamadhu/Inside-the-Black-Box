{
 "cells": [
  {
   "cell_type": "markdown",
   "id": "bb641717",
   "metadata": {},
   "source": [
    "Data Source: https://archive.ics.uci.edu/dataset/2/adult"
   ]
  },
  {
   "cell_type": "code",
   "execution_count": 1,
   "id": "1c1a650e",
   "metadata": {},
   "outputs": [
    {
     "name": "stderr",
     "output_type": "stream",
     "text": [
      "/Users/veeksha_work/opt/anaconda3/lib/python3.9/site-packages/pandas/core/computation/expressions.py:21: UserWarning: Pandas requires version '2.8.4' or newer of 'numexpr' (version '2.8.1' currently installed).\n",
      "  from pandas.core.computation.check import NUMEXPR_INSTALLED\n",
      "/Users/veeksha_work/opt/anaconda3/lib/python3.9/site-packages/pandas/core/arrays/masked.py:60: UserWarning: Pandas requires version '1.3.6' or newer of 'bottleneck' (version '1.3.4' currently installed).\n",
      "  from pandas.core import (\n"
     ]
    }
   ],
   "source": [
    "# Importing necessary libraries for data analysis\n",
    "import pandas as pd\n",
    "import numpy as np"
   ]
  },
  {
   "cell_type": "code",
   "execution_count": 2,
   "id": "66966644",
   "metadata": {},
   "outputs": [
    {
     "name": "stdout",
     "output_type": "stream",
     "text": [
      "(32561, 2)\n"
     ]
    },
    {
     "data": {
      "text/html": [
       "<div>\n",
       "<style scoped>\n",
       "    .dataframe tbody tr th:only-of-type {\n",
       "        vertical-align: middle;\n",
       "    }\n",
       "\n",
       "    .dataframe tbody tr th {\n",
       "        vertical-align: top;\n",
       "    }\n",
       "\n",
       "    .dataframe thead th {\n",
       "        text-align: right;\n",
       "    }\n",
       "</style>\n",
       "<table border=\"1\" class=\"dataframe\">\n",
       "  <thead>\n",
       "    <tr style=\"text-align: right;\">\n",
       "      <th></th>\n",
       "      <th>Age</th>\n",
       "      <th>Other data</th>\n",
       "    </tr>\n",
       "  </thead>\n",
       "  <tbody>\n",
       "    <tr>\n",
       "      <th>0</th>\n",
       "      <td>39,</td>\n",
       "      <td>State-gov, 77516, Bachelors, 13, Never-married...</td>\n",
       "    </tr>\n",
       "    <tr>\n",
       "      <th>1</th>\n",
       "      <td>50,</td>\n",
       "      <td>Self-emp-not-inc, 83311, Bachelors, 13, Marrie...</td>\n",
       "    </tr>\n",
       "    <tr>\n",
       "      <th>2</th>\n",
       "      <td>38,</td>\n",
       "      <td>Private, 215646, HS-grad, 9, Divorced, Handler...</td>\n",
       "    </tr>\n",
       "    <tr>\n",
       "      <th>3</th>\n",
       "      <td>53,</td>\n",
       "      <td>Private, 234721, 11th, 7, Married-civ-spouse, ...</td>\n",
       "    </tr>\n",
       "    <tr>\n",
       "      <th>4</th>\n",
       "      <td>28,</td>\n",
       "      <td>Private, 338409, Bachelors, 13, Married-civ-sp...</td>\n",
       "    </tr>\n",
       "  </tbody>\n",
       "</table>\n",
       "</div>"
      ],
      "text/plain": [
       "   Age                                         Other data\n",
       "0  39,  State-gov, 77516, Bachelors, 13, Never-married...\n",
       "1  50,  Self-emp-not-inc, 83311, Bachelors, 13, Marrie...\n",
       "2  38,  Private, 215646, HS-grad, 9, Divorced, Handler...\n",
       "3  53,  Private, 234721, 11th, 7, Married-civ-spouse, ...\n",
       "4  28,  Private, 338409, Bachelors, 13, Married-civ-sp..."
      ]
     },
     "execution_count": 2,
     "metadata": {},
     "output_type": "execute_result"
    }
   ],
   "source": [
    "# reading the data file\n",
    "inc = pd.read_fwf(\"adult.data\", header=None,names=['Age', 'Other data'])\n",
    "print(inc.shape)\n",
    "inc.head()"
   ]
  },
  {
   "cell_type": "markdown",
   "id": "c55b741e",
   "metadata": {},
   "source": [
    "### Cleaning Dataset"
   ]
  },
  {
   "cell_type": "code",
   "execution_count": 3,
   "id": "3eef59c4",
   "metadata": {},
   "outputs": [
    {
     "data": {
      "text/html": [
       "<div>\n",
       "<style scoped>\n",
       "    .dataframe tbody tr th:only-of-type {\n",
       "        vertical-align: middle;\n",
       "    }\n",
       "\n",
       "    .dataframe tbody tr th {\n",
       "        vertical-align: top;\n",
       "    }\n",
       "\n",
       "    .dataframe thead th {\n",
       "        text-align: right;\n",
       "    }\n",
       "</style>\n",
       "<table border=\"1\" class=\"dataframe\">\n",
       "  <thead>\n",
       "    <tr style=\"text-align: right;\">\n",
       "      <th></th>\n",
       "      <th>Age</th>\n",
       "      <th>Workclass</th>\n",
       "      <th>FNLWGT</th>\n",
       "      <th>Education</th>\n",
       "      <th>Education-Num</th>\n",
       "      <th>Marital-Status</th>\n",
       "      <th>Occupation</th>\n",
       "      <th>Relationship</th>\n",
       "      <th>Race</th>\n",
       "      <th>Sex</th>\n",
       "      <th>Capital-Gain</th>\n",
       "      <th>Capital-Loss</th>\n",
       "      <th>Hours-per-week</th>\n",
       "      <th>Native-Country</th>\n",
       "      <th>Income</th>\n",
       "    </tr>\n",
       "  </thead>\n",
       "  <tbody>\n",
       "    <tr>\n",
       "      <th>0</th>\n",
       "      <td>39</td>\n",
       "      <td>State-gov</td>\n",
       "      <td>77516</td>\n",
       "      <td>Bachelors</td>\n",
       "      <td>13</td>\n",
       "      <td>Never-married</td>\n",
       "      <td>Adm-clerical</td>\n",
       "      <td>Not-in-family</td>\n",
       "      <td>White</td>\n",
       "      <td>Male</td>\n",
       "      <td>2174</td>\n",
       "      <td>0</td>\n",
       "      <td>40</td>\n",
       "      <td>United-States</td>\n",
       "      <td>&lt;=50K</td>\n",
       "    </tr>\n",
       "    <tr>\n",
       "      <th>1</th>\n",
       "      <td>50</td>\n",
       "      <td>Self-emp-not-inc</td>\n",
       "      <td>83311</td>\n",
       "      <td>Bachelors</td>\n",
       "      <td>13</td>\n",
       "      <td>Married-civ-spouse</td>\n",
       "      <td>Exec-managerial</td>\n",
       "      <td>Husband</td>\n",
       "      <td>White</td>\n",
       "      <td>Male</td>\n",
       "      <td>0</td>\n",
       "      <td>0</td>\n",
       "      <td>13</td>\n",
       "      <td>United-States</td>\n",
       "      <td>&lt;=50K</td>\n",
       "    </tr>\n",
       "    <tr>\n",
       "      <th>2</th>\n",
       "      <td>38</td>\n",
       "      <td>Private</td>\n",
       "      <td>215646</td>\n",
       "      <td>HS-grad</td>\n",
       "      <td>9</td>\n",
       "      <td>Divorced</td>\n",
       "      <td>Handlers-cleaners</td>\n",
       "      <td>Not-in-family</td>\n",
       "      <td>White</td>\n",
       "      <td>Male</td>\n",
       "      <td>0</td>\n",
       "      <td>0</td>\n",
       "      <td>40</td>\n",
       "      <td>United-States</td>\n",
       "      <td>&lt;=50K</td>\n",
       "    </tr>\n",
       "  </tbody>\n",
       "</table>\n",
       "</div>"
      ],
      "text/plain": [
       "  Age         Workclass  FNLWGT  Education Education-Num      Marital-Status  \\\n",
       "0  39         State-gov   77516  Bachelors            13       Never-married   \n",
       "1  50  Self-emp-not-inc   83311  Bachelors            13  Married-civ-spouse   \n",
       "2  38           Private  215646    HS-grad             9            Divorced   \n",
       "\n",
       "          Occupation   Relationship   Race   Sex Capital-Gain Capital-Loss  \\\n",
       "0       Adm-clerical  Not-in-family  White  Male         2174            0   \n",
       "1    Exec-managerial        Husband  White  Male            0            0   \n",
       "2  Handlers-cleaners  Not-in-family  White  Male            0            0   \n",
       "\n",
       "  Hours-per-week Native-Country Income  \n",
       "0             40  United-States  <=50K  \n",
       "1             13  United-States  <=50K  \n",
       "2             40  United-States  <=50K  "
      ]
     },
     "execution_count": 3,
     "metadata": {},
     "output_type": "execute_result"
    }
   ],
   "source": [
    "# Split the 'Other data' column on commas\n",
    "new_cols = inc['Other data'].str.split(',', expand=True)\n",
    "\n",
    "# Remove leading/trailing whitespace from each new column\n",
    "new_cols = new_cols.apply(lambda x: x.str.strip())\n",
    "\n",
    "# Rename the new columns\n",
    "new_cols.columns = ['Workclass', 'FNLWGT', 'Education', 'Education-Num',\n",
    "                    'Marital-Status', 'Occupation', 'Relationship', 'Race',\n",
    "                    'Sex', 'Capital-Gain', 'Capital-Loss', 'Hours-per-week',\n",
    "                    'Native-Country', 'Income'][:new_cols.shape[1]]  # slice in case fewer columns\n",
    "\n",
    "# Combine with 'Age' column\n",
    "inc_cleaned = pd.concat([inc['Age'], new_cols], axis=1)\n",
    "# Remove commas and convert to integer\n",
    "inc_cleaned['Age'] = inc_cleaned['Age'].str.replace(',', '')\n",
    "inc_cleaned.head(3)"
   ]
  },
  {
   "cell_type": "code",
   "execution_count": 4,
   "id": "68b3c008",
   "metadata": {},
   "outputs": [
    {
     "data": {
      "text/plain": [
       "Age                 0\n",
       "Workclass           0\n",
       "FNLWGT              0\n",
       "Education           0\n",
       "Education-Num       0\n",
       "Marital-Status      0\n",
       "Occupation          0\n",
       "Relationship        0\n",
       "Race                0\n",
       "Sex                 0\n",
       "Capital-Gain        0\n",
       "Capital-Loss        0\n",
       "Hours-per-week      0\n",
       "Native-Country      1\n",
       "Income            121\n",
       "dtype: int64"
      ]
     },
     "execution_count": 4,
     "metadata": {},
     "output_type": "execute_result"
    }
   ],
   "source": [
    "# Checking for missing values\n",
    "inc_cleaned.isnull().sum()"
   ]
  },
  {
   "cell_type": "code",
   "execution_count": 5,
   "id": "85fe82c5",
   "metadata": {},
   "outputs": [
    {
     "data": {
      "text/plain": [
       "(32440, 15)"
      ]
     },
     "execution_count": 5,
     "metadata": {},
     "output_type": "execute_result"
    }
   ],
   "source": [
    "inc_cleaned.dropna(inplace = True)\n",
    "inc_cleaned.shape"
   ]
  },
  {
   "cell_type": "markdown",
   "id": "a17b661d",
   "metadata": {},
   "source": [
    "### Feature Engineering"
   ]
  },
  {
   "cell_type": "code",
   "execution_count": 6,
   "id": "1de947c2",
   "metadata": {},
   "outputs": [
    {
     "data": {
      "text/plain": [
       "numpy.int64"
      ]
     },
     "execution_count": 6,
     "metadata": {},
     "output_type": "execute_result"
    }
   ],
   "source": [
    "# Convert numeric columns to int type\n",
    "my_list = [\"Age\", \"Education-Num\", \"Capital-Gain\", 'Capital-Loss', 'Hours-per-week']\n",
    "\n",
    "for col in my_list:\n",
    "    inc_cleaned[col] = inc_cleaned[col].astype(int)\n",
    "type(inc_cleaned.iloc[1,0])"
   ]
  },
  {
   "cell_type": "code",
   "execution_count": 7,
   "id": "cac3f0d2",
   "metadata": {},
   "outputs": [
    {
     "data": {
      "text/html": [
       "<div>\n",
       "<style scoped>\n",
       "    .dataframe tbody tr th:only-of-type {\n",
       "        vertical-align: middle;\n",
       "    }\n",
       "\n",
       "    .dataframe tbody tr th {\n",
       "        vertical-align: top;\n",
       "    }\n",
       "\n",
       "    .dataframe thead th {\n",
       "        text-align: right;\n",
       "    }\n",
       "</style>\n",
       "<table border=\"1\" class=\"dataframe\">\n",
       "  <thead>\n",
       "    <tr style=\"text-align: right;\">\n",
       "      <th></th>\n",
       "      <th>Age</th>\n",
       "      <th>Workclass</th>\n",
       "      <th>FNLWGT</th>\n",
       "      <th>Education</th>\n",
       "      <th>Education-Num</th>\n",
       "      <th>Marital-Status</th>\n",
       "      <th>Occupation</th>\n",
       "      <th>Relationship</th>\n",
       "      <th>Race</th>\n",
       "      <th>Sex</th>\n",
       "      <th>Capital-Gain</th>\n",
       "      <th>Capital-Loss</th>\n",
       "      <th>Hours-per-week</th>\n",
       "      <th>Native-Country</th>\n",
       "      <th>Income</th>\n",
       "    </tr>\n",
       "  </thead>\n",
       "  <tbody>\n",
       "    <tr>\n",
       "      <th>0</th>\n",
       "      <td>39</td>\n",
       "      <td>State-gov</td>\n",
       "      <td>77516</td>\n",
       "      <td>Bachelors</td>\n",
       "      <td>13</td>\n",
       "      <td>Never-married</td>\n",
       "      <td>Adm-clerical</td>\n",
       "      <td>Not-in-family</td>\n",
       "      <td>White</td>\n",
       "      <td>Male</td>\n",
       "      <td>2174</td>\n",
       "      <td>0</td>\n",
       "      <td>40</td>\n",
       "      <td>United-States</td>\n",
       "      <td>&lt;=50K</td>\n",
       "    </tr>\n",
       "    <tr>\n",
       "      <th>1</th>\n",
       "      <td>50</td>\n",
       "      <td>Self-emp-not-inc</td>\n",
       "      <td>83311</td>\n",
       "      <td>Bachelors</td>\n",
       "      <td>13</td>\n",
       "      <td>Married-civ-spouse</td>\n",
       "      <td>Exec-managerial</td>\n",
       "      <td>Husband</td>\n",
       "      <td>White</td>\n",
       "      <td>Male</td>\n",
       "      <td>0</td>\n",
       "      <td>0</td>\n",
       "      <td>13</td>\n",
       "      <td>United-States</td>\n",
       "      <td>&lt;=50K</td>\n",
       "    </tr>\n",
       "    <tr>\n",
       "      <th>2</th>\n",
       "      <td>38</td>\n",
       "      <td>Private</td>\n",
       "      <td>215646</td>\n",
       "      <td>HS-grad</td>\n",
       "      <td>9</td>\n",
       "      <td>Divorced</td>\n",
       "      <td>Handlers-cleaners</td>\n",
       "      <td>Not-in-family</td>\n",
       "      <td>White</td>\n",
       "      <td>Male</td>\n",
       "      <td>0</td>\n",
       "      <td>0</td>\n",
       "      <td>40</td>\n",
       "      <td>United-States</td>\n",
       "      <td>&lt;=50K</td>\n",
       "    </tr>\n",
       "  </tbody>\n",
       "</table>\n",
       "</div>"
      ],
      "text/plain": [
       "   Age         Workclass  FNLWGT  Education  Education-Num  \\\n",
       "0   39         State-gov   77516  Bachelors             13   \n",
       "1   50  Self-emp-not-inc   83311  Bachelors             13   \n",
       "2   38           Private  215646    HS-grad              9   \n",
       "\n",
       "       Marital-Status         Occupation   Relationship   Race   Sex  \\\n",
       "0       Never-married       Adm-clerical  Not-in-family  White  Male   \n",
       "1  Married-civ-spouse    Exec-managerial        Husband  White  Male   \n",
       "2            Divorced  Handlers-cleaners  Not-in-family  White  Male   \n",
       "\n",
       "   Capital-Gain  Capital-Loss  Hours-per-week Native-Country Income  \n",
       "0          2174             0              40  United-States  <=50K  \n",
       "1             0             0              13  United-States  <=50K  \n",
       "2             0             0              40  United-States  <=50K  "
      ]
     },
     "execution_count": 7,
     "metadata": {},
     "output_type": "execute_result"
    }
   ],
   "source": [
    "# brief look at the dataset so far\n",
    "inc_cleaned.head(3)"
   ]
  },
  {
   "cell_type": "code",
   "execution_count": 8,
   "id": "c02d1a15",
   "metadata": {},
   "outputs": [],
   "source": [
    "# Label encoding encoding\n",
    "from sklearn.preprocessing import OrdinalEncoder\n",
    "\n",
    "# Exclude 'Income' from encoding\n",
    "cat_cols = inc_cleaned.select_dtypes(include='object').columns.drop('Income')\n",
    "\n",
    "# Copy to avoid modifying original\n",
    "inc_lencoded = inc_cleaned.copy()\n",
    "\n",
    "# Apply encoding only to categorical features (excluding Income)\n",
    "encoder = OrdinalEncoder()\n",
    "inc_lencoded[cat_cols] = encoder.fit_transform(inc_lencoded[cat_cols])"
   ]
  },
  {
   "cell_type": "code",
   "execution_count": 9,
   "id": "d56bfc69",
   "metadata": {},
   "outputs": [
    {
     "data": {
      "text/plain": [
       "Income\n",
       "<=50K    24179\n",
       ">50K      7616\n",
       "<=50       146\n",
       "<=5        119\n",
       "            92\n",
       "<=          72\n",
       ">50         70\n",
       "<           59\n",
       ">           45\n",
       ">5          42\n",
       "Name: count, dtype: int64"
      ]
     },
     "execution_count": 9,
     "metadata": {},
     "output_type": "execute_result"
    }
   ],
   "source": [
    "# Inspecting target feature\n",
    "inc_lencoded['Income'].value_counts()"
   ]
  },
  {
   "cell_type": "code",
   "execution_count": 10,
   "id": "bd2ccce0",
   "metadata": {},
   "outputs": [
    {
     "data": {
      "text/plain": [
       "(31795, 15)"
      ]
     },
     "execution_count": 10,
     "metadata": {},
     "output_type": "execute_result"
    }
   ],
   "source": [
    "# Keep only rows where 'Income' is exactly '>50K' or '<=50K'\n",
    "inc_lencoded = inc_lencoded[inc_lencoded['Income'].isin(['>50K', '<=50K'])]\n",
    "inc_lencoded['Income'] = (inc_lencoded['Income'] == '>50K').astype(int)\n",
    "\n",
    "inc_lencoded.shape"
   ]
  },
  {
   "cell_type": "markdown",
   "id": "11accca7",
   "metadata": {},
   "source": [
    "### Model Building"
   ]
  },
  {
   "cell_type": "code",
   "execution_count": 11,
   "id": "8837de87",
   "metadata": {},
   "outputs": [],
   "source": [
    "# Import necessary libraries for ML\n",
    "from sklearn.ensemble import RandomForestClassifier\n",
    "from sklearn.datasets import load_iris\n",
    "from sklearn.model_selection import train_test_split\n",
    "from sklearn.metrics import accuracy_score, classification_report\n",
    "\n",
    "# Prepare predictors (X) and target (y)\n",
    "X = inc_lencoded.drop('Income', axis=1)\n",
    "y = inc_lencoded['Income']\n",
    "X_np = X.values\n",
    "y_np = y.values\n",
    "\n",
    "# Split into training and test sets\n",
    "X_train, X_test, y_train, y_test = train_test_split(X_np, y_np, test_size=0.2, random_state=42)"
   ]
  },
  {
   "cell_type": "markdown",
   "id": "35a73ead",
   "metadata": {},
   "source": [
    "#### Manually coded random forest"
   ]
  },
  {
   "cell_type": "code",
   "execution_count": 13,
   "id": "8b0092aa",
   "metadata": {},
   "outputs": [],
   "source": [
    "from sklearn.utils import resample\n",
    "from collections import Counter\n",
    "'''\n",
    "BOOTSTRAPPING\n",
    "'''\n",
    "# Generate a bootstrap sample from the dataset.\n",
    "def bootstrap_sample(X, y):\n",
    "    n_samples = X.shape[0]\n",
    "    indices = np.random.choice(n_samples, size=n_samples, replace=True)\n",
    "    return X[indices], y[indices]\n",
    "\n",
    "'''\n",
    "BUILDING A DECISION TREE\n",
    "'''\n",
    "\n",
    "# Function to compute the Gini impurity\n",
    "def gini_impurity(arr):\n",
    "    classes, counts = np.unique(arr, return_counts=True)\n",
    "    probabilities = counts / counts.sum()\n",
    "    gi = 1 - np.sum(probabilities ** 2)\n",
    "    return gi\n",
    "\n",
    "# Function to compute the weighted average Gini impurity\n",
    "def weighted_avg_gi(y_left, y_right, n):\n",
    "    gini_left = gini_impurity(y_left)\n",
    "    gini_right = gini_impurity(y_right)\n",
    "\n",
    "    n_left = len(y_left)\n",
    "    n_right = len(y_right)\n",
    "    weighted_gini = (n_left / n) * gini_left + (n_right / n) * gini_right\n",
    "    \n",
    "    return weighted_gini\n",
    "\n",
    "# Find the best split point for a continuous feature column X_col with respect to the label vector y, \n",
    "# using the Gini impurity criterion.\n",
    "\n",
    "def best_gini_split(X_col, y):\n",
    "    # Sort feature values and corresponding labels\n",
    "    sorted_idx = np.argsort(X_col)\n",
    "    X_sorted = X_col[sorted_idx]\n",
    "    y_sorted = y[sorted_idx]\n",
    "    \n",
    "    # Possible split points are midpoints between unique values\n",
    "    unique_vals = np.unique(X_sorted)\n",
    "    if len(unique_vals) == 1:\n",
    "        return None, None  # No split possible\n",
    "\n",
    "    thresholds = (unique_vals[:-1] + unique_vals[1:]) / 2\n",
    "\n",
    "    best_gini = float('inf')\n",
    "    best_threshold = None\n",
    "\n",
    "    for threshold in thresholds:\n",
    "        left_mask = X_sorted <= threshold\n",
    "        right_mask = X_sorted > threshold\n",
    "\n",
    "        y_left = y_sorted[left_mask]\n",
    "        y_right = y_sorted[right_mask]\n",
    "\n",
    "        if len(y_left) == 0 or len(y_right) == 0:\n",
    "            continue  # Skip invalid splits\n",
    "\n",
    "        gini_left = gini_impurity(y_left)\n",
    "        gini_right = gini_impurity(y_right)\n",
    "\n",
    "        # Weighted average Gini impurity\n",
    "        n = len(y_sorted)\n",
    "        weighted_gini = weighted_avg_gi(y_left, y_right, n)\n",
    "\n",
    "        if weighted_gini < best_gini:\n",
    "            best_gini = weighted_gini\n",
    "            best_threshold = threshold\n",
    "\n",
    "    return best_threshold, best_gini\n",
    "\n",
    "def build_decision_tree(X, y, max_depth=None, min_samples_leaf=1, depth=0, max_features=None):\n",
    "    n_samples, n_features = X.shape\n",
    "    \n",
    "    current_gini = gini_impurity(y)\n",
    "    majority_class = np.bincount(y).argmax()\n",
    "\n",
    "    # Stopping conditions\n",
    "    if (max_depth is not None and depth >= max_depth) or \\\n",
    "       (n_samples <= min_samples_leaf) or (current_gini == 0):\n",
    "        return {'type': 'leaf', 'class': majority_class}\n",
    "\n",
    "    # Determine number of features to consider at this split\n",
    "    if max_features is None:\n",
    "        features_to_consider = np.arange(n_features)\n",
    "    elif max_features == 'sqrt':\n",
    "        k = max(1, int(np.sqrt(n_features)))\n",
    "        features_to_consider = np.random.choice(n_features, size=k, replace=False)\n",
    "    elif isinstance(max_features, int):\n",
    "        k = max(1, min(max_features, n_features))\n",
    "        features_to_consider = np.random.choice(n_features, size=k, replace=False)\n",
    "    else:\n",
    "        raise ValueError(\"max_features must be None, 'sqrt', or an int\")\n",
    "\n",
    "    # Find best split among chosen features\n",
    "    best_feature = None\n",
    "    best_threshold = None\n",
    "    best_gini = current_gini\n",
    "    for feature in features_to_consider:\n",
    "        X_col = X[:, feature]\n",
    "        threshold, split_gini = best_gini_split(X_col, y)\n",
    "\n",
    "        if threshold is not None and split_gini < best_gini:\n",
    "            best_gini = split_gini\n",
    "            best_feature = feature\n",
    "            best_threshold = threshold\n",
    "\n",
    "    if best_feature is None or best_gini >= current_gini:\n",
    "        return {'type': 'leaf', 'class': majority_class}\n",
    "\n",
    "    # Recursive splitting\n",
    "    left_mask = X[:, best_feature] <= best_threshold\n",
    "    right_mask = ~left_mask\n",
    "\n",
    "    left_subtree = build_decision_tree(\n",
    "        X[left_mask], y[left_mask],\n",
    "        max_depth=max_depth,\n",
    "        min_samples_leaf=min_samples_leaf,\n",
    "        depth=depth + 1,\n",
    "        max_features=max_features\n",
    "    )\n",
    "    right_subtree = build_decision_tree(\n",
    "        X[right_mask], y[right_mask],\n",
    "        max_depth=max_depth,\n",
    "        min_samples_leaf=min_samples_leaf,\n",
    "        depth=depth + 1,\n",
    "        max_features=max_features\n",
    "    )\n",
    "\n",
    "    return {\n",
    "        'type': 'node',\n",
    "        'feature': best_feature,\n",
    "        'threshold': best_threshold,\n",
    "        'left': left_subtree,\n",
    "        'right': right_subtree\n",
    "    }\n",
    "\n",
    "# Predict class labels for all samples in X using the decision tree.\n",
    "def predict_tree(tree, x):\n",
    "    while tree['type'] != 'leaf':\n",
    "        feature = tree['feature']\n",
    "        threshold = tree['threshold']\n",
    "        if x[feature] <= threshold:\n",
    "            tree = tree['left']\n",
    "        else:\n",
    "            tree = tree['right']\n",
    "    return tree['class']"
   ]
  },
  {
   "cell_type": "code",
   "execution_count": 14,
   "id": "56ef9e24",
   "metadata": {},
   "outputs": [],
   "source": [
    "'''\n",
    "BUILDING RANDOM FOREST\n",
    "'''\n",
    "# Builds a random forest using n_trees individual decision trees.\n",
    "def build_random_forest(X, y, n_trees=10, max_depth=None, max_features='sqrt'):\n",
    "    forest = []\n",
    "    for _ in range(n_trees):\n",
    "        X_sample, y_sample = bootstrap_sample(X, y)\n",
    "        tree = build_decision_tree(X_sample, y_sample, max_depth=max_depth, max_features=max_features)\n",
    "        forest.append(tree)\n",
    "    return forest\n"
   ]
  },
  {
   "cell_type": "code",
   "execution_count": 15,
   "id": "e8ff0503",
   "metadata": {},
   "outputs": [],
   "source": [
    "manual_rf = build_random_forest(X_train, y_train, n_trees=10, max_depth= None, max_features='sqrt')"
   ]
  },
  {
   "cell_type": "markdown",
   "id": "d82fc42e",
   "metadata": {},
   "source": [
    "#### Random forest coded using sklearn"
   ]
  },
  {
   "cell_type": "code",
   "execution_count": 30,
   "id": "a9291db2",
   "metadata": {},
   "outputs": [
    {
     "data": {
      "text/plain": [
       "RandomForestClassifier(max_depth=10, max_features='sqrt', n_estimators=10,\n",
       "                       random_state=42)"
      ]
     },
     "execution_count": 30,
     "metadata": {},
     "output_type": "execute_result"
    }
   ],
   "source": [
    "# Initialize the Random Forest classifier\n",
    "rf = RandomForestClassifier(n_estimators=10, bootstrap = True, max_features = 'sqrt', random_state=42)\n",
    "\n",
    "# Fit the model\n",
    "rf.fit(X_train, y_train)"
   ]
  },
  {
   "cell_type": "markdown",
   "id": "44fa9851",
   "metadata": {},
   "source": [
    "### Predictions"
   ]
  },
  {
   "cell_type": "markdown",
   "id": "4e11a673",
   "metadata": {},
   "source": [
    "#### Manually coded random forest predictions"
   ]
  },
  {
   "cell_type": "code",
   "execution_count": 17,
   "id": "838ecbea",
   "metadata": {},
   "outputs": [],
   "source": [
    "#     Predicts using all trees in the forest and returns the majority vote.\n",
    "def predict_forest(trees, X):\n",
    "    # Get predictions from each tree\n",
    "    tree_preds = np.array([[predict_tree(tree, x) for tree in trees] for x in X])\n",
    "    \n",
    "    # Majority vote across rows\n",
    "    y_pred = []\n",
    "    for row in tree_preds:\n",
    "        majority_vote = Counter(row).most_common(1)[0][0]\n",
    "        y_pred.append(majority_vote)\n",
    "    \n",
    "    return np.array(y_pred)\n",
    "\n"
   ]
  },
  {
   "cell_type": "code",
   "execution_count": 18,
   "id": "18b96cad",
   "metadata": {},
   "outputs": [],
   "source": [
    "y_pred_manual = predict_forest(manual_rf, X_test)"
   ]
  },
  {
   "cell_type": "markdown",
   "id": "30f95cfb",
   "metadata": {},
   "source": [
    "#### Random forest  predictions using sklearn"
   ]
  },
  {
   "cell_type": "code",
   "execution_count": 31,
   "id": "8dd2cf7e",
   "metadata": {},
   "outputs": [],
   "source": [
    "# Make predictions\n",
    "y_pred = rf.predict(X_test)"
   ]
  },
  {
   "cell_type": "markdown",
   "id": "fa22d90f",
   "metadata": {},
   "source": [
    "### Model Evaluations"
   ]
  },
  {
   "cell_type": "code",
   "execution_count": 35,
   "id": "090ece5d",
   "metadata": {},
   "outputs": [
    {
     "data": {
      "text/plain": [
       "Counter({0: 4835, 1: 1524})"
      ]
     },
     "execution_count": 35,
     "metadata": {},
     "output_type": "execute_result"
    }
   ],
   "source": [
    "Counter(y_test)"
   ]
  },
  {
   "cell_type": "markdown",
   "id": "58b7b248",
   "metadata": {},
   "source": [
    "#### Evaluating manually coded random forest predictions"
   ]
  },
  {
   "cell_type": "code",
   "execution_count": 20,
   "id": "6dcdb511",
   "metadata": {},
   "outputs": [
    {
     "name": "stdout",
     "output_type": "stream",
     "text": [
      "Accuracy: 0.85\n",
      "[[4492  343]\n",
      " [ 596  928]]\n",
      "              precision    recall  f1-score   support\n",
      "\n",
      "           0       0.88      0.93      0.91      4835\n",
      "           1       0.73      0.61      0.66      1524\n",
      "\n",
      "    accuracy                           0.85      6359\n",
      "   macro avg       0.81      0.77      0.78      6359\n",
      "weighted avg       0.85      0.85      0.85      6359\n",
      "\n"
     ]
    }
   ],
   "source": [
    "from sklearn.metrics import accuracy_score, classification_report, confusion_matrix\n",
    "accuracy = accuracy_score(y_test, y_pred_manual)\n",
    "print(f\"Accuracy: {accuracy:.2f}\")\n",
    "\n",
    "print(confusion_matrix(y_test, y_pred_manual))\n",
    "print(classification_report(y_test, y_pred_manual))"
   ]
  },
  {
   "cell_type": "markdown",
   "id": "d5ed1c09",
   "metadata": {},
   "source": [
    "#### Evaluating sklearn random forest predictions"
   ]
  },
  {
   "cell_type": "code",
   "execution_count": 32,
   "id": "33e2e7dc",
   "metadata": {},
   "outputs": [
    {
     "name": "stdout",
     "output_type": "stream",
     "text": [
      "Accuracy: 0.85\n",
      "[[4617  218]\n",
      " [ 706  818]]\n",
      "              precision    recall  f1-score   support\n",
      "\n",
      "           0       0.87      0.95      0.91      4835\n",
      "           1       0.79      0.54      0.64      1524\n",
      "\n",
      "    accuracy                           0.85      6359\n",
      "   macro avg       0.83      0.75      0.77      6359\n",
      "weighted avg       0.85      0.85      0.84      6359\n",
      "\n"
     ]
    }
   ],
   "source": [
    "# Evaluate the model\n",
    "accuracy = accuracy_score(y_test, y_pred)\n",
    "print(f\"Accuracy: {accuracy:.2f}\")\n",
    "\n",
    "print(confusion_matrix(y_test, y_pred))\n",
    "print(classification_report(y_test, y_pred))"
   ]
  },
  {
   "cell_type": "code",
   "execution_count": null,
   "id": "f705c576",
   "metadata": {},
   "outputs": [],
   "source": []
  }
 ],
 "metadata": {
  "kernelspec": {
   "display_name": "Python 3 (ipykernel)",
   "language": "python",
   "name": "python3"
  },
  "language_info": {
   "codemirror_mode": {
    "name": "ipython",
    "version": 3
   },
   "file_extension": ".py",
   "mimetype": "text/x-python",
   "name": "python",
   "nbconvert_exporter": "python",
   "pygments_lexer": "ipython3",
   "version": "3.9.12"
  }
 },
 "nbformat": 4,
 "nbformat_minor": 5
}
