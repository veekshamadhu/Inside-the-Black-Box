{
 "cells": [
  {
   "cell_type": "markdown",
   "id": "0702af98",
   "metadata": {},
   "source": [
    "### The Dataset"
   ]
  },
  {
   "cell_type": "markdown",
   "id": "727d164f",
   "metadata": {},
   "source": [
    "The data source for this gradient boosting model is Kaggle: https://www.kaggle.com/datasets/pankajjsh06/ibm-watson-marketing-customer-value-data/data"
   ]
  },
  {
   "cell_type": "code",
   "execution_count": 1,
   "id": "8a4d40c3",
   "metadata": {},
   "outputs": [
    {
     "name": "stderr",
     "output_type": "stream",
     "text": [
      "/Users/veeksha_work/opt/anaconda3/lib/python3.9/site-packages/pandas/core/computation/expressions.py:21: UserWarning: Pandas requires version '2.8.4' or newer of 'numexpr' (version '2.8.1' currently installed).\n",
      "  from pandas.core.computation.check import NUMEXPR_INSTALLED\n",
      "/Users/veeksha_work/opt/anaconda3/lib/python3.9/site-packages/pandas/core/arrays/masked.py:60: UserWarning: Pandas requires version '1.3.6' or newer of 'bottleneck' (version '1.3.4' currently installed).\n",
      "  from pandas.core import (\n"
     ]
    }
   ],
   "source": [
    "#Importing necessary libraries for loading the data, feature engineering, and visualizations. \n",
    "import pandas as pd \n",
    "import numpy as np   \n",
    "\n",
    "# Ignore all warnings\n",
    "import warnings\n",
    "warnings.filterwarnings(\"ignore\")  "
   ]
  },
  {
   "cell_type": "code",
   "execution_count": 2,
   "id": "4c94555b",
   "metadata": {},
   "outputs": [
    {
     "data": {
      "text/plain": [
       "(9134, 24)"
      ]
     },
     "execution_count": 2,
     "metadata": {},
     "output_type": "execute_result"
    }
   ],
   "source": [
    "#reading the csv file\n",
    "cltv = pd.read_csv('IBM Watson CLTV Data.csv')\n",
    "\n",
    "#how many rows and columns are in the dataset?\n",
    "cltv.shape"
   ]
  },
  {
   "cell_type": "code",
   "execution_count": 3,
   "id": "dd9f522b",
   "metadata": {},
   "outputs": [
    {
     "data": {
      "text/html": [
       "<div>\n",
       "<style scoped>\n",
       "    .dataframe tbody tr th:only-of-type {\n",
       "        vertical-align: middle;\n",
       "    }\n",
       "\n",
       "    .dataframe tbody tr th {\n",
       "        vertical-align: top;\n",
       "    }\n",
       "\n",
       "    .dataframe thead th {\n",
       "        text-align: right;\n",
       "    }\n",
       "</style>\n",
       "<table border=\"1\" class=\"dataframe\">\n",
       "  <thead>\n",
       "    <tr style=\"text-align: right;\">\n",
       "      <th></th>\n",
       "      <th>Customer</th>\n",
       "      <th>State</th>\n",
       "      <th>Customer Lifetime Value</th>\n",
       "      <th>Response</th>\n",
       "      <th>Coverage</th>\n",
       "      <th>Education</th>\n",
       "      <th>Effective To Date</th>\n",
       "      <th>EmploymentStatus</th>\n",
       "      <th>Gender</th>\n",
       "      <th>Income</th>\n",
       "      <th>...</th>\n",
       "      <th>Months Since Policy Inception</th>\n",
       "      <th>Number of Open Complaints</th>\n",
       "      <th>Number of Policies</th>\n",
       "      <th>Policy Type</th>\n",
       "      <th>Policy</th>\n",
       "      <th>Renew Offer Type</th>\n",
       "      <th>Sales Channel</th>\n",
       "      <th>Total Claim Amount</th>\n",
       "      <th>Vehicle Class</th>\n",
       "      <th>Vehicle Size</th>\n",
       "    </tr>\n",
       "  </thead>\n",
       "  <tbody>\n",
       "    <tr>\n",
       "      <th>0</th>\n",
       "      <td>BU79786</td>\n",
       "      <td>Washington</td>\n",
       "      <td>2763.519279</td>\n",
       "      <td>No</td>\n",
       "      <td>Basic</td>\n",
       "      <td>Bachelor</td>\n",
       "      <td>2/24/11</td>\n",
       "      <td>Employed</td>\n",
       "      <td>F</td>\n",
       "      <td>56274</td>\n",
       "      <td>...</td>\n",
       "      <td>5</td>\n",
       "      <td>0</td>\n",
       "      <td>1</td>\n",
       "      <td>Corporate Auto</td>\n",
       "      <td>Corporate L3</td>\n",
       "      <td>Offer1</td>\n",
       "      <td>Agent</td>\n",
       "      <td>384.811147</td>\n",
       "      <td>Two-Door Car</td>\n",
       "      <td>Medsize</td>\n",
       "    </tr>\n",
       "    <tr>\n",
       "      <th>1</th>\n",
       "      <td>QZ44356</td>\n",
       "      <td>Arizona</td>\n",
       "      <td>6979.535903</td>\n",
       "      <td>No</td>\n",
       "      <td>Extended</td>\n",
       "      <td>Bachelor</td>\n",
       "      <td>1/31/11</td>\n",
       "      <td>Unemployed</td>\n",
       "      <td>F</td>\n",
       "      <td>0</td>\n",
       "      <td>...</td>\n",
       "      <td>42</td>\n",
       "      <td>0</td>\n",
       "      <td>8</td>\n",
       "      <td>Personal Auto</td>\n",
       "      <td>Personal L3</td>\n",
       "      <td>Offer3</td>\n",
       "      <td>Agent</td>\n",
       "      <td>1131.464935</td>\n",
       "      <td>Four-Door Car</td>\n",
       "      <td>Medsize</td>\n",
       "    </tr>\n",
       "    <tr>\n",
       "      <th>2</th>\n",
       "      <td>AI49188</td>\n",
       "      <td>Nevada</td>\n",
       "      <td>12887.431650</td>\n",
       "      <td>No</td>\n",
       "      <td>Premium</td>\n",
       "      <td>Bachelor</td>\n",
       "      <td>2/19/11</td>\n",
       "      <td>Employed</td>\n",
       "      <td>F</td>\n",
       "      <td>48767</td>\n",
       "      <td>...</td>\n",
       "      <td>38</td>\n",
       "      <td>0</td>\n",
       "      <td>2</td>\n",
       "      <td>Personal Auto</td>\n",
       "      <td>Personal L3</td>\n",
       "      <td>Offer1</td>\n",
       "      <td>Agent</td>\n",
       "      <td>566.472247</td>\n",
       "      <td>Two-Door Car</td>\n",
       "      <td>Medsize</td>\n",
       "    </tr>\n",
       "  </tbody>\n",
       "</table>\n",
       "<p>3 rows × 24 columns</p>\n",
       "</div>"
      ],
      "text/plain": [
       "  Customer       State  Customer Lifetime Value Response  Coverage Education  \\\n",
       "0  BU79786  Washington              2763.519279       No     Basic  Bachelor   \n",
       "1  QZ44356     Arizona              6979.535903       No  Extended  Bachelor   \n",
       "2  AI49188      Nevada             12887.431650       No   Premium  Bachelor   \n",
       "\n",
       "  Effective To Date EmploymentStatus Gender  Income  ...  \\\n",
       "0           2/24/11         Employed      F   56274  ...   \n",
       "1           1/31/11       Unemployed      F       0  ...   \n",
       "2           2/19/11         Employed      F   48767  ...   \n",
       "\n",
       "  Months Since Policy Inception Number of Open Complaints  Number of Policies  \\\n",
       "0                             5                         0                   1   \n",
       "1                            42                         0                   8   \n",
       "2                            38                         0                   2   \n",
       "\n",
       "      Policy Type        Policy  Renew Offer Type  Sales Channel  \\\n",
       "0  Corporate Auto  Corporate L3            Offer1          Agent   \n",
       "1   Personal Auto   Personal L3            Offer3          Agent   \n",
       "2   Personal Auto   Personal L3            Offer1          Agent   \n",
       "\n",
       "  Total Claim Amount  Vehicle Class Vehicle Size  \n",
       "0         384.811147   Two-Door Car      Medsize  \n",
       "1        1131.464935  Four-Door Car      Medsize  \n",
       "2         566.472247   Two-Door Car      Medsize  \n",
       "\n",
       "[3 rows x 24 columns]"
      ]
     },
     "execution_count": 3,
     "metadata": {},
     "output_type": "execute_result"
    }
   ],
   "source": [
    "cltv.head(3)"
   ]
  },
  {
   "cell_type": "markdown",
   "id": "d633344c",
   "metadata": {},
   "source": [
    "### Dataset Cleaning"
   ]
  },
  {
   "cell_type": "code",
   "execution_count": 4,
   "id": "2e5c1229",
   "metadata": {},
   "outputs": [
    {
     "data": {
      "text/plain": [
       "Customer                         0\n",
       "State                            0\n",
       "Customer Lifetime Value          0\n",
       "Response                         0\n",
       "Coverage                         0\n",
       "Education                        0\n",
       "Effective To Date                0\n",
       "EmploymentStatus                 0\n",
       "Gender                           0\n",
       "Income                           0\n",
       "Location Code                    0\n",
       "Marital Status                   0\n",
       "Monthly Premium Auto             0\n",
       "Months Since Last Claim          0\n",
       "Months Since Policy Inception    0\n",
       "Number of Open Complaints        0\n",
       "Number of Policies               0\n",
       "Policy Type                      0\n",
       "Policy                           0\n",
       "Renew Offer Type                 0\n",
       "Sales Channel                    0\n",
       "Total Claim Amount               0\n",
       "Vehicle Class                    0\n",
       "Vehicle Size                     0\n",
       "dtype: int64"
      ]
     },
     "execution_count": 4,
     "metadata": {},
     "output_type": "execute_result"
    }
   ],
   "source": [
    "# Checking for null values\n",
    "cltv.isnull().sum()"
   ]
  },
  {
   "cell_type": "markdown",
   "id": "7a4fc1b6",
   "metadata": {},
   "source": [
    "### Feature Engineering"
   ]
  },
  {
   "cell_type": "code",
   "execution_count": 5,
   "id": "819828e0",
   "metadata": {},
   "outputs": [],
   "source": [
    "# Changing the target variable name\n",
    "cltv = cltv.rename(columns={'Customer Lifetime Value': 'CLTV'})"
   ]
  },
  {
   "cell_type": "code",
   "execution_count": 6,
   "id": "898dd57f",
   "metadata": {},
   "outputs": [],
   "source": [
    "# Engineering number of days policy has been effective feature\n",
    "# Convert column to datetime\n",
    "cltv['Effective To Date'] = pd.to_datetime(cltv['Effective To Date'])\n",
    "# Reference date\n",
    "ref_date = pd.to_datetime('2011-12-31')\n",
    "cltv['Effective To Date'] \n",
    "# Calculate number of days\n",
    "cltv['days_effective'] = (ref_date - cltv['Effective To Date']).dt.days"
   ]
  },
  {
   "cell_type": "code",
   "execution_count": 7,
   "id": "188ac341",
   "metadata": {},
   "outputs": [],
   "source": [
    "# Dropping irrelevant columns, one-hot encoding categorical variables\n",
    "cltv = cltv.drop(['Customer', 'Effective To Date'], axis=1) \n",
    "# Identify categorical columns (object type)\n",
    "cat_cols = cltv.select_dtypes(include='object').columns\n",
    "\n",
    "# One-hot encode only categorical columns\n",
    "cltv_encoded = pd.get_dummies(cltv, columns=cat_cols, drop_first=True, dtype=int)"
   ]
  },
  {
   "cell_type": "code",
   "execution_count": 8,
   "id": "abd49533",
   "metadata": {},
   "outputs": [
    {
     "data": {
      "text/html": [
       "<div>\n",
       "<style scoped>\n",
       "    .dataframe tbody tr th:only-of-type {\n",
       "        vertical-align: middle;\n",
       "    }\n",
       "\n",
       "    .dataframe tbody tr th {\n",
       "        vertical-align: top;\n",
       "    }\n",
       "\n",
       "    .dataframe thead th {\n",
       "        text-align: right;\n",
       "    }\n",
       "</style>\n",
       "<table border=\"1\" class=\"dataframe\">\n",
       "  <thead>\n",
       "    <tr style=\"text-align: right;\">\n",
       "      <th></th>\n",
       "      <th>CLTV</th>\n",
       "      <th>Income</th>\n",
       "      <th>Monthly Premium Auto</th>\n",
       "      <th>Months Since Last Claim</th>\n",
       "      <th>Months Since Policy Inception</th>\n",
       "      <th>Number of Open Complaints</th>\n",
       "      <th>Number of Policies</th>\n",
       "      <th>Total Claim Amount</th>\n",
       "      <th>days_effective</th>\n",
       "      <th>State_California</th>\n",
       "      <th>...</th>\n",
       "      <th>Sales Channel_Branch</th>\n",
       "      <th>Sales Channel_Call Center</th>\n",
       "      <th>Sales Channel_Web</th>\n",
       "      <th>Vehicle Class_Luxury Car</th>\n",
       "      <th>Vehicle Class_Luxury SUV</th>\n",
       "      <th>Vehicle Class_SUV</th>\n",
       "      <th>Vehicle Class_Sports Car</th>\n",
       "      <th>Vehicle Class_Two-Door Car</th>\n",
       "      <th>Vehicle Size_Medsize</th>\n",
       "      <th>Vehicle Size_Small</th>\n",
       "    </tr>\n",
       "  </thead>\n",
       "  <tbody>\n",
       "    <tr>\n",
       "      <th>0</th>\n",
       "      <td>2763.519279</td>\n",
       "      <td>56274</td>\n",
       "      <td>69</td>\n",
       "      <td>32</td>\n",
       "      <td>5</td>\n",
       "      <td>0</td>\n",
       "      <td>1</td>\n",
       "      <td>384.811147</td>\n",
       "      <td>310</td>\n",
       "      <td>0</td>\n",
       "      <td>...</td>\n",
       "      <td>0</td>\n",
       "      <td>0</td>\n",
       "      <td>0</td>\n",
       "      <td>0</td>\n",
       "      <td>0</td>\n",
       "      <td>0</td>\n",
       "      <td>0</td>\n",
       "      <td>1</td>\n",
       "      <td>1</td>\n",
       "      <td>0</td>\n",
       "    </tr>\n",
       "    <tr>\n",
       "      <th>1</th>\n",
       "      <td>6979.535903</td>\n",
       "      <td>0</td>\n",
       "      <td>94</td>\n",
       "      <td>13</td>\n",
       "      <td>42</td>\n",
       "      <td>0</td>\n",
       "      <td>8</td>\n",
       "      <td>1131.464935</td>\n",
       "      <td>334</td>\n",
       "      <td>0</td>\n",
       "      <td>...</td>\n",
       "      <td>0</td>\n",
       "      <td>0</td>\n",
       "      <td>0</td>\n",
       "      <td>0</td>\n",
       "      <td>0</td>\n",
       "      <td>0</td>\n",
       "      <td>0</td>\n",
       "      <td>0</td>\n",
       "      <td>1</td>\n",
       "      <td>0</td>\n",
       "    </tr>\n",
       "    <tr>\n",
       "      <th>2</th>\n",
       "      <td>12887.431650</td>\n",
       "      <td>48767</td>\n",
       "      <td>108</td>\n",
       "      <td>18</td>\n",
       "      <td>38</td>\n",
       "      <td>0</td>\n",
       "      <td>2</td>\n",
       "      <td>566.472247</td>\n",
       "      <td>315</td>\n",
       "      <td>0</td>\n",
       "      <td>...</td>\n",
       "      <td>0</td>\n",
       "      <td>0</td>\n",
       "      <td>0</td>\n",
       "      <td>0</td>\n",
       "      <td>0</td>\n",
       "      <td>0</td>\n",
       "      <td>0</td>\n",
       "      <td>1</td>\n",
       "      <td>1</td>\n",
       "      <td>0</td>\n",
       "    </tr>\n",
       "    <tr>\n",
       "      <th>3</th>\n",
       "      <td>7645.861827</td>\n",
       "      <td>0</td>\n",
       "      <td>106</td>\n",
       "      <td>18</td>\n",
       "      <td>65</td>\n",
       "      <td>0</td>\n",
       "      <td>7</td>\n",
       "      <td>529.881344</td>\n",
       "      <td>345</td>\n",
       "      <td>1</td>\n",
       "      <td>...</td>\n",
       "      <td>0</td>\n",
       "      <td>1</td>\n",
       "      <td>0</td>\n",
       "      <td>0</td>\n",
       "      <td>0</td>\n",
       "      <td>1</td>\n",
       "      <td>0</td>\n",
       "      <td>0</td>\n",
       "      <td>1</td>\n",
       "      <td>0</td>\n",
       "    </tr>\n",
       "    <tr>\n",
       "      <th>4</th>\n",
       "      <td>2813.692575</td>\n",
       "      <td>43836</td>\n",
       "      <td>73</td>\n",
       "      <td>12</td>\n",
       "      <td>44</td>\n",
       "      <td>0</td>\n",
       "      <td>1</td>\n",
       "      <td>138.130879</td>\n",
       "      <td>331</td>\n",
       "      <td>0</td>\n",
       "      <td>...</td>\n",
       "      <td>0</td>\n",
       "      <td>0</td>\n",
       "      <td>0</td>\n",
       "      <td>0</td>\n",
       "      <td>0</td>\n",
       "      <td>0</td>\n",
       "      <td>0</td>\n",
       "      <td>0</td>\n",
       "      <td>1</td>\n",
       "      <td>0</td>\n",
       "    </tr>\n",
       "  </tbody>\n",
       "</table>\n",
       "<p>5 rows × 52 columns</p>\n",
       "</div>"
      ],
      "text/plain": [
       "           CLTV  Income  Monthly Premium Auto  Months Since Last Claim  \\\n",
       "0   2763.519279   56274                    69                       32   \n",
       "1   6979.535903       0                    94                       13   \n",
       "2  12887.431650   48767                   108                       18   \n",
       "3   7645.861827       0                   106                       18   \n",
       "4   2813.692575   43836                    73                       12   \n",
       "\n",
       "   Months Since Policy Inception  Number of Open Complaints  \\\n",
       "0                              5                          0   \n",
       "1                             42                          0   \n",
       "2                             38                          0   \n",
       "3                             65                          0   \n",
       "4                             44                          0   \n",
       "\n",
       "   Number of Policies  Total Claim Amount  days_effective  State_California  \\\n",
       "0                   1          384.811147             310                 0   \n",
       "1                   8         1131.464935             334                 0   \n",
       "2                   2          566.472247             315                 0   \n",
       "3                   7          529.881344             345                 1   \n",
       "4                   1          138.130879             331                 0   \n",
       "\n",
       "   ...  Sales Channel_Branch  Sales Channel_Call Center  Sales Channel_Web  \\\n",
       "0  ...                     0                          0                  0   \n",
       "1  ...                     0                          0                  0   \n",
       "2  ...                     0                          0                  0   \n",
       "3  ...                     0                          1                  0   \n",
       "4  ...                     0                          0                  0   \n",
       "\n",
       "   Vehicle Class_Luxury Car  Vehicle Class_Luxury SUV  Vehicle Class_SUV  \\\n",
       "0                         0                         0                  0   \n",
       "1                         0                         0                  0   \n",
       "2                         0                         0                  0   \n",
       "3                         0                         0                  1   \n",
       "4                         0                         0                  0   \n",
       "\n",
       "   Vehicle Class_Sports Car  Vehicle Class_Two-Door Car  Vehicle Size_Medsize  \\\n",
       "0                         0                           1                     1   \n",
       "1                         0                           0                     1   \n",
       "2                         0                           1                     1   \n",
       "3                         0                           0                     1   \n",
       "4                         0                           0                     1   \n",
       "\n",
       "   Vehicle Size_Small  \n",
       "0                   0  \n",
       "1                   0  \n",
       "2                   0  \n",
       "3                   0  \n",
       "4                   0  \n",
       "\n",
       "[5 rows x 52 columns]"
      ]
     },
     "execution_count": 8,
     "metadata": {},
     "output_type": "execute_result"
    }
   ],
   "source": [
    "# Look at final dataset to be fed into the model\n",
    "cltv_encoded.head()"
   ]
  },
  {
   "cell_type": "markdown",
   "id": "b621ed66",
   "metadata": {},
   "source": [
    "### Model Building "
   ]
  },
  {
   "cell_type": "code",
   "execution_count": 9,
   "id": "d0dd8792",
   "metadata": {},
   "outputs": [],
   "source": [
    "from sklearn.model_selection import train_test_split\n",
    "# Define independent (X) and dependent (y) variables\n",
    "X = cltv_encoded.drop('CLTV', axis=1)\n",
    "y = cltv_encoded['CLTV']\n",
    "X_np = X.values\n",
    "y_np = y.values\n",
    "\n",
    "# Split into Training and Testing sets (80% train, 20% test)\n",
    "X_train, X_test, y_train, y_test = train_test_split(X_np, y_np, test_size=0.2, random_state=42)"
   ]
  },
  {
   "cell_type": "markdown",
   "id": "80308a47",
   "metadata": {},
   "source": [
    "#### Manually coded gradient boosted regressor"
   ]
  },
  {
   "cell_type": "code",
   "execution_count": 29,
   "id": "fac1178b",
   "metadata": {},
   "outputs": [],
   "source": [
    "def sse(y):\n",
    "    return ((y - y.mean()) ** 2).sum()\n",
    "\n",
    "def compute_neg_gradient(y_true, y_pred):\n",
    "    # For least squares loss, residual is negative gradient: y - y_pred\n",
    "    return y_true - y_pred\n",
    "\n",
    "'''\n",
    "BUILDING A DECISION TREE\n",
    "'''\n",
    "# build logic that splits a dataset on the feature split with lowest sum of squared errors\n",
    "def best_sse_split(X_col, y):\n",
    "    sort_idx = np.argsort(X_col)\n",
    "    X_sorted = X_col[sort_idx]\n",
    "    y_sorted = y[sort_idx]\n",
    "    unique_vals = np.unique(X_sorted)\n",
    "    if len(unique_vals) == 1:\n",
    "        return None, None\n",
    "    thresholds = (unique_vals[:-1] + unique_vals[1:]) / 2\n",
    "    best_sse = float('inf')\n",
    "    best_threshold = None\n",
    "    for threshold in thresholds:\n",
    "        left_mask = X_sorted <= threshold\n",
    "        right_mask = ~left_mask\n",
    "        y_left = y_sorted[left_mask]\n",
    "        y_right = y_sorted[right_mask]\n",
    "        if len(y_left) == 0 or len(y_right) == 0:\n",
    "            continue\n",
    "        sse_left = sse(y_left)\n",
    "        sse_right = sse(y_right)\n",
    "        weighted_sse = sse_left + sse_right\n",
    "        if weighted_sse < best_sse:\n",
    "            best_sse = weighted_sse\n",
    "            best_threshold = threshold\n",
    "    return best_threshold, best_sse\n",
    "\n",
    "def fit_tree(X, y, max_depth, min_samples_split):\n",
    "    # Recursively build a regression tree\n",
    "    if (max_depth == 0) or (X.shape[0] < min_samples_split) or (np.std(y) == 0):\n",
    "        return {'leaf': True, 'value': np.mean(y)}\n",
    "    n_samples, n_features = X.shape\n",
    "    best_feature, best_threshold, best_sse_val = None, None, float('inf')\n",
    "    for feature_idx in range(n_features):\n",
    "        threshold, sse_val = best_sse_split(X[:, feature_idx], y)\n",
    "        if threshold is not None and sse_val < best_sse_val:\n",
    "            best_feature, best_threshold, best_sse_val = feature_idx, threshold, sse_val\n",
    "    if best_feature is None:\n",
    "        return {'leaf': True, 'value': np.mean(y)}\n",
    "    left_mask = X[:, best_feature] <= best_threshold\n",
    "    right_mask = ~left_mask\n",
    "    left_subtree = fit_tree(X[left_mask], y[left_mask], max_depth - 1, min_samples_split)\n",
    "    right_subtree = fit_tree(X[right_mask], y[right_mask], max_depth - 1, min_samples_split)\n",
    "    return {\n",
    "        'leaf': False,\n",
    "        'feature': best_feature,\n",
    "        'threshold': best_threshold,\n",
    "        'left': left_subtree,\n",
    "        'right': right_subtree\n",
    "    }\n",
    "\n",
    "# Predict class labels for all samples in X using the decision tree.\n",
    "def predict_tree(tree, X):\n",
    "    preds = np.zeros(X.shape[0])\n",
    "    for i, x in enumerate(X):\n",
    "        node = tree\n",
    "        while not node['leaf']:\n",
    "            if x[node['feature']] <= node['threshold']:\n",
    "                node = node['left']\n",
    "            else:\n",
    "                node = node['right']\n",
    "        preds[i] = node['value']\n",
    "    return preds"
   ]
  },
  {
   "cell_type": "code",
   "execution_count": 30,
   "id": "d38814a8",
   "metadata": {},
   "outputs": [],
   "source": [
    "def build_gradient_boosting(X, y, n_estimators=50, learning_rate=0.1, max_depth=10, min_samples_split=2):\n",
    "    X = np.asarray(X)\n",
    "    y = np.asarray(y)\n",
    "    init_value = np.mean(y)\n",
    "    y_pred = np.full(len(y), init_value)\n",
    "    trees = []\n",
    "    for i in range(n_estimators):\n",
    "        residual = y - y_pred\n",
    "        tree = fit_tree(\n",
    "            X, residual, max_depth=max_depth, min_samples_split=min_samples_split\n",
    "        )\n",
    "        update = predict_tree(tree, X)\n",
    "        y_pred += learning_rate * update\n",
    "        trees.append(tree)\n",
    "    # Return model state as a dictionary\n",
    "    return {\n",
    "        'init_value': init_value,\n",
    "        'trees': trees,\n",
    "        'learning_rate': learning_rate,\n",
    "        'max_depth': max_depth,\n",
    "        'min_samples_split': min_samples_split\n",
    "    }"
   ]
  },
  {
   "cell_type": "code",
   "execution_count": 32,
   "id": "893253b7",
   "metadata": {},
   "outputs": [],
   "source": [
    "manual_GBR = build_gradient_boosting(X_train, y_train, n_estimators=50, learning_rate=0.1, max_depth=10, min_samples_split=2)"
   ]
  },
  {
   "cell_type": "markdown",
   "id": "bf694005",
   "metadata": {},
   "source": [
    "#### Gradient boosted regressor coded using sklearn"
   ]
  },
  {
   "cell_type": "markdown",
   "id": "63bfa897",
   "metadata": {},
   "source": [
    "### ✨Bonus - Finding optimal number of trees✨"
   ]
  },
  {
   "cell_type": "code",
   "execution_count": 15,
   "id": "d862add4",
   "metadata": {},
   "outputs": [
    {
     "data": {
      "image/png": "[encoded data removed]",
      "text/plain": [
       "<Figure size 432x288 with 1 Axes>"
      ]
     },
     "metadata": {
      "needs_background": "light"
     },
     "output_type": "display_data"
    },
    {
     "name": "stdout",
     "output_type": "stream",
     "text": [
      "Optimal number of trees: 184\n"
     ]
    }
   ],
   "source": [
    "from sklearn.metrics import mean_squared_error\n",
    "from sklearn.ensemble import GradientBoostingRegressor\n",
    "import matplotlib.pyplot as plt\n",
    "\n",
    "# Split  dataset\n",
    "X_train, X_val, y_train, y_val = train_test_split(X, y, test_size=0.2, random_state=2)\n",
    "\n",
    "# Train a GBM with more trees than anticipated\n",
    "model = GradientBoostingRegressor(n_estimators=200, learning_rate=0.1, max_depth=3, random_state=42)\n",
    "model.fit(X_train, y_train)\n",
    "\n",
    "# Evaluate staged predictions on the validation set\n",
    "mse_vals = []\n",
    "for y_pred in model.staged_predict(X_val):\n",
    "    mse = mean_squared_error(y_val, y_pred)\n",
    "    mse_vals.append(mse)\n",
    "best_n = mse_vals.index(min(mse_vals)) + 1\n",
    "\n",
    "# Plot validation error vs number of trees\n",
    "plt.plot(mse_vals)\n",
    "plt.xlabel('Number of Trees')\n",
    "plt.ylabel('Validation MSE')\n",
    "plt.title('Validation Error vs Number of Trees')\n",
    "plt.axvline(best_n, color='red', linestyle='--', label='Optimal trees #')\n",
    "plt.legend()\n",
    "plt.grid(True)\n",
    "plt.show()\n",
    "\n",
    "# 5. Get the best number of trees\n",
    "print(f\"Optimal number of trees: {best_n}\")\n"
   ]
  },
  {
   "cell_type": "code",
   "execution_count": 16,
   "id": "e910c893",
   "metadata": {},
   "outputs": [
    {
     "data": {
      "text/plain": [
       "GradientBoostingRegressor(max_depth=10, n_estimators=50, random_state=42)"
      ]
     },
     "execution_count": 16,
     "metadata": {},
     "output_type": "execute_result"
    }
   ],
   "source": [
    "# Initialize GBM Regressor\n",
    "gbm = GradientBoostingRegressor(\n",
    "    n_estimators=50,\n",
    "    learning_rate=0.1,\n",
    "    max_depth=10,\n",
    "    min_samples_split=2,\n",
    "    random_state=42\n",
    ")\n",
    "\n",
    "# Train model\n",
    "gbm.fit(X_train, y_train)"
   ]
  },
  {
   "cell_type": "markdown",
   "id": "044f11e8",
   "metadata": {},
   "source": [
    "### Predictions"
   ]
  },
  {
   "cell_type": "markdown",
   "id": "edf9c56e",
   "metadata": {},
   "source": [
    "#### Manually coded GBR predictions"
   ]
  },
  {
   "cell_type": "code",
   "execution_count": 37,
   "id": "40548bed",
   "metadata": {},
   "outputs": [],
   "source": [
    "# Predict on test set\n",
    "def predict_gradient_boosting(X, model):\n",
    "    y_pred = np.full(X.shape[0], model['init_value'])\n",
    "    for tree in model['trees']:\n",
    "        y_pred += model['learning_rate'] * predict_tree(tree, X)\n",
    "    return y_pred"
   ]
  },
  {
   "cell_type": "code",
   "execution_count": 38,
   "id": "7763d263",
   "metadata": {},
   "outputs": [],
   "source": [
    "y_pred_manual = predict_gradient_boosting(X_test, manual_GBR)"
   ]
  },
  {
   "cell_type": "markdown",
   "id": "53a24772",
   "metadata": {},
   "source": [
    "#### Sklearn coded GBR predictions"
   ]
  },
  {
   "cell_type": "code",
   "execution_count": 20,
   "id": "1ddad584",
   "metadata": {},
   "outputs": [],
   "source": [
    "# Predict on test set\n",
    "y_pred = gbm.predict(X_test)"
   ]
  },
  {
   "cell_type": "markdown",
   "id": "f03c9281",
   "metadata": {},
   "source": [
    "### Model Evaluations"
   ]
  },
  {
   "cell_type": "markdown",
   "id": "345e8e42",
   "metadata": {},
   "source": [
    "#### Evaluating manually coded GBR predictions"
   ]
  },
  {
   "cell_type": "code",
   "execution_count": 35,
   "id": "926a48c9",
   "metadata": {},
   "outputs": [
    {
     "name": "stdout",
     "output_type": "stream",
     "text": [
      "Mean Absolute Error (MAE): 689.18\n",
      "Mean Squared Error (MSE): 3963623.45\n",
      "Root Mean Squared Error (RMSE): 1990.89\n",
      "R² Score: 0.9231\n"
     ]
    }
   ],
   "source": [
    "from sklearn.metrics import mean_absolute_error, mean_squared_error, r2_score\n",
    "\n",
    "#Calculate Evaluation Metrics:\n",
    "#Mean absolute error\n",
    "mae = mean_absolute_error(y_test, y_pred_manual)\n",
    "#Mean square error\n",
    "mse = mean_squared_error(y_test, y_pred_manual)\n",
    "#Root mean square error\n",
    "rmse = np.sqrt(mse)\n",
    "#R-square score\n",
    "r2 = r2_score(y_test, y_pred_manual)\n",
    "\n",
    "# Print Results\n",
    "print(f\"Mean Absolute Error (MAE): {mae:.2f}\")\n",
    "print(f\"Mean Squared Error (MSE): {mse:.2f}\")\n",
    "print(f\"Root Mean Squared Error (RMSE): {rmse:.2f}\")\n",
    "print(f\"R² Score: {r2:.4f}\")"
   ]
  },
  {
   "cell_type": "markdown",
   "id": "af4a2151",
   "metadata": {},
   "source": [
    "#### Evaluating manually coded GBR predictions"
   ]
  },
  {
   "cell_type": "code",
   "execution_count": 39,
   "id": "43dc845d",
   "metadata": {},
   "outputs": [
    {
     "name": "stdout",
     "output_type": "stream",
     "text": [
      "Mean Absolute Error (MAE): 694.49\n",
      "Mean Squared Error (MSE): 4445940.14\n",
      "Root Mean Squared Error (RMSE): 2108.54\n",
      "R² Score: 0.9137\n"
     ]
    }
   ],
   "source": [
    "#Calculate Evaluation Metrics:\n",
    "#Mean absolute error\n",
    "mae = mean_absolute_error(y_test, y_pred)\n",
    "#Mean square error\n",
    "mse = mean_squared_error(y_test, y_pred)\n",
    "#Root mean square error\n",
    "rmse = np.sqrt(mse)\n",
    "#R-square score\n",
    "r2 = r2_score(y_test, y_pred)\n",
    "\n",
    "# Print Results\n",
    "print(f\"Mean Absolute Error (MAE): {mae:.2f}\")\n",
    "print(f\"Mean Squared Error (MSE): {mse:.2f}\")\n",
    "print(f\"Root Mean Squared Error (RMSE): {rmse:.2f}\")\n",
    "print(f\"R² Score: {r2:.4f}\")"
   ]
  },
  {
   "cell_type": "code",
   "execution_count": 23,
   "id": "a79a6428",
   "metadata": {},
   "outputs": [
    {
     "name": "stdout",
     "output_type": "stream",
     "text": [
      "83325.38119\n",
      "8004.940474987081\n",
      "1898.007675\n"
     ]
    }
   ],
   "source": [
    "# Printing CLV data stats for model eval metric comparison\n",
    "print(cltv_encoded['CLTV'].max())\n",
    "print(cltv_encoded['CLTV'].mean())\n",
    "print(cltv_encoded['CLTV'].min())"
   ]
  },
  {
   "cell_type": "code",
   "execution_count": null,
   "id": "280d77a5",
   "metadata": {},
   "outputs": [],
   "source": [
    "# the tree\n",
    "manual_GBR"
   ]
  },
  {
   "cell_type": "code",
   "execution_count": 40,
   "id": "490b506d",
   "metadata": {},
   "outputs": [
    {
     "data": {
      "image/png": "[encoded data removed]",
      "text/plain": [
       "<Figure size 720x432 with 1 Axes>"
      ]
     },
     "metadata": {
      "needs_background": "light"
     },
     "output_type": "display_data"
    }
   ],
   "source": [
    "# Visualize importnat features in a model\n",
    "import matplotlib.pyplot as plt\n",
    "\n",
    "# Extract feature importances from the trained model\n",
    "feature_names = X_train.columns.tolist()\n",
    "importances = gbm.feature_importances_\n",
    "\n",
    "# Create a DataFrame associating features with their importance scores\n",
    "feature_importance_df = pd.DataFrame({\n",
    "    'Feature': feature_names,\n",
    "    'Importance': importances\n",
    "})\n",
    "\n",
    "# Sort features by importance descending\n",
    "feature_importance_df = feature_importance_df.sort_values(by='Importance', ascending=True)[0:10]\n",
    "\n",
    "# Plot horizontal bar chart of feature importances\n",
    "plt.figure(figsize=(10, 6))\n",
    "plt.barh(feature_importance_df['Feature'], feature_importance_df['Importance'], color='skyblue')\n",
    "plt.xlabel('Importance')\n",
    "plt.title('Feature Importance in the Gradient Boosting Regressor')\n",
    "plt.tight_layout()\n",
    "plt.show()\n"
   ]
  }
 ],
 "metadata": {
  "kernelspec": {
   "display_name": "Python 3 (ipykernel)",
   "language": "python",
   "name": "python3"
  },
  "language_info": {
   "codemirror_mode": {
    "name": "ipython",
    "version": 3
   },
   "file_extension": ".py",
   "mimetype": "text/x-python",
   "name": "python",
   "nbconvert_exporter": "python",
   "pygments_lexer": "ipython3",
   "version": "3.9.12"
  }
 },
 "nbformat": 4,
 "nbformat_minor": 5
}
