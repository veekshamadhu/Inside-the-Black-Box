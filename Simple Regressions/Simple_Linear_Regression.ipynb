{
 "cells": [
  {
   "cell_type": "markdown",
   "id": "3a1df22d",
   "metadata": {},
   "source": [
    "### The dataset\n",
    "The data I will be using in this demonstration of a simple linear regression has been downloaded from this Kaggle source: https://www.kaggle.com/datasets/ashydv/housing-dataset. <br>\n",
    "This housing dataset has 13 variables, including one target variable, price, and 12 predictors. A simple regression only uses one predictor, and so I have chosen area as it is the only other continuous variable. The column 'area' contains values of the square footage of each house. "
   ]
  },
  {
   "cell_type": "code",
   "execution_count": 3,
   "id": "335e250b",
   "metadata": {},
   "outputs": [],
   "source": [
    "#Importing necessary libraries for loading the data, feature engineering, and visualizations. \n",
    "#I will import more libraries as and when they are necessary\n",
    "import pandas as pd  \n",
    "import matplotlib.pyplot as plt\n",
    "import seaborn as sns\n",
    "import numpy as np   \n",
    "\n",
    "# Ignore all warnings\n",
    "import warnings\n",
    "warnings.filterwarnings(\"ignore\")  "
   ]
  },
  {
   "cell_type": "code",
   "execution_count": 4,
   "id": "a591dbc0",
   "metadata": {},
   "outputs": [
    {
     "data": {
      "text/plain": [
       "(545, 13)"
      ]
     },
     "execution_count": 4,
     "metadata": {},
     "output_type": "execute_result"
    }
   ],
   "source": [
    "#reading the csv file\n",
    "housing_data = pd.read_csv('Housing.csv')\n",
    "\n",
    "#how many rows and columns are in the dataset?\n",
    "housing_data.shape"
   ]
  },
  {
   "cell_type": "markdown",
   "id": "6f4efffe",
   "metadata": {},
   "source": [
    "The .shape function tells is that the housing dataset has 545 observations."
   ]
  },
  {
   "cell_type": "code",
   "execution_count": 5,
   "id": "72f0c53f",
   "metadata": {},
   "outputs": [
    {
     "data": {
      "text/html": [
       "<div>\n",
       "<style scoped>\n",
       "    .dataframe tbody tr th:only-of-type {\n",
       "        vertical-align: middle;\n",
       "    }\n",
       "\n",
       "    .dataframe tbody tr th {\n",
       "        vertical-align: top;\n",
       "    }\n",
       "\n",
       "    .dataframe thead th {\n",
       "        text-align: right;\n",
       "    }\n",
       "</style>\n",
       "<table border=\"1\" class=\"dataframe\">\n",
       "  <thead>\n",
       "    <tr style=\"text-align: right;\">\n",
       "      <th></th>\n",
       "      <th>price</th>\n",
       "      <th>area</th>\n",
       "      <th>bedrooms</th>\n",
       "      <th>bathrooms</th>\n",
       "      <th>stories</th>\n",
       "      <th>mainroad</th>\n",
       "      <th>guestroom</th>\n",
       "      <th>basement</th>\n",
       "      <th>hotwaterheating</th>\n",
       "      <th>airconditioning</th>\n",
       "      <th>parking</th>\n",
       "      <th>prefarea</th>\n",
       "      <th>furnishingstatus</th>\n",
       "    </tr>\n",
       "  </thead>\n",
       "  <tbody>\n",
       "    <tr>\n",
       "      <th>0</th>\n",
       "      <td>13300000</td>\n",
       "      <td>7420</td>\n",
       "      <td>4</td>\n",
       "      <td>2</td>\n",
       "      <td>3</td>\n",
       "      <td>yes</td>\n",
       "      <td>no</td>\n",
       "      <td>no</td>\n",
       "      <td>no</td>\n",
       "      <td>yes</td>\n",
       "      <td>2</td>\n",
       "      <td>yes</td>\n",
       "      <td>furnished</td>\n",
       "    </tr>\n",
       "    <tr>\n",
       "      <th>1</th>\n",
       "      <td>12250000</td>\n",
       "      <td>8960</td>\n",
       "      <td>4</td>\n",
       "      <td>4</td>\n",
       "      <td>4</td>\n",
       "      <td>yes</td>\n",
       "      <td>no</td>\n",
       "      <td>no</td>\n",
       "      <td>no</td>\n",
       "      <td>yes</td>\n",
       "      <td>3</td>\n",
       "      <td>no</td>\n",
       "      <td>furnished</td>\n",
       "    </tr>\n",
       "    <tr>\n",
       "      <th>2</th>\n",
       "      <td>12250000</td>\n",
       "      <td>9960</td>\n",
       "      <td>3</td>\n",
       "      <td>2</td>\n",
       "      <td>2</td>\n",
       "      <td>yes</td>\n",
       "      <td>no</td>\n",
       "      <td>yes</td>\n",
       "      <td>no</td>\n",
       "      <td>no</td>\n",
       "      <td>2</td>\n",
       "      <td>yes</td>\n",
       "      <td>semi-furnished</td>\n",
       "    </tr>\n",
       "    <tr>\n",
       "      <th>3</th>\n",
       "      <td>12215000</td>\n",
       "      <td>7500</td>\n",
       "      <td>4</td>\n",
       "      <td>2</td>\n",
       "      <td>2</td>\n",
       "      <td>yes</td>\n",
       "      <td>no</td>\n",
       "      <td>yes</td>\n",
       "      <td>no</td>\n",
       "      <td>yes</td>\n",
       "      <td>3</td>\n",
       "      <td>yes</td>\n",
       "      <td>furnished</td>\n",
       "    </tr>\n",
       "    <tr>\n",
       "      <th>4</th>\n",
       "      <td>11410000</td>\n",
       "      <td>7420</td>\n",
       "      <td>4</td>\n",
       "      <td>1</td>\n",
       "      <td>2</td>\n",
       "      <td>yes</td>\n",
       "      <td>yes</td>\n",
       "      <td>yes</td>\n",
       "      <td>no</td>\n",
       "      <td>yes</td>\n",
       "      <td>2</td>\n",
       "      <td>no</td>\n",
       "      <td>furnished</td>\n",
       "    </tr>\n",
       "  </tbody>\n",
       "</table>\n",
       "</div>"
      ],
      "text/plain": [
       "      price  area  bedrooms  bathrooms  stories mainroad guestroom basement  \\\n",
       "0  13300000  7420         4          2        3      yes        no       no   \n",
       "1  12250000  8960         4          4        4      yes        no       no   \n",
       "2  12250000  9960         3          2        2      yes        no      yes   \n",
       "3  12215000  7500         4          2        2      yes        no      yes   \n",
       "4  11410000  7420         4          1        2      yes       yes      yes   \n",
       "\n",
       "  hotwaterheating airconditioning  parking prefarea furnishingstatus  \n",
       "0              no             yes        2      yes        furnished  \n",
       "1              no             yes        3       no        furnished  \n",
       "2              no              no        2      yes   semi-furnished  \n",
       "3              no             yes        3      yes        furnished  \n",
       "4              no             yes        2       no        furnished  "
      ]
     },
     "execution_count": 5,
     "metadata": {},
     "output_type": "execute_result"
    }
   ],
   "source": [
    "#displaying the first five rows of the dataset\n",
    "housing_data.head()"
   ]
  },
  {
   "cell_type": "markdown",
   "id": "586df958",
   "metadata": {},
   "source": [
    "### Feature Engineering"
   ]
  },
  {
   "cell_type": "markdown",
   "id": "4634c07c",
   "metadata": {},
   "source": [
    "For our simple linear regression model, we need only 2 columns (also called features or variables) - price and area. So let's remove all other variables and focus on those. "
   ]
  },
  {
   "cell_type": "code",
   "execution_count": 6,
   "id": "5995f0f4",
   "metadata": {},
   "outputs": [
    {
     "data": {
      "text/html": [
       "<div>\n",
       "<style scoped>\n",
       "    .dataframe tbody tr th:only-of-type {\n",
       "        vertical-align: middle;\n",
       "    }\n",
       "\n",
       "    .dataframe tbody tr th {\n",
       "        vertical-align: top;\n",
       "    }\n",
       "\n",
       "    .dataframe thead th {\n",
       "        text-align: right;\n",
       "    }\n",
       "</style>\n",
       "<table border=\"1\" class=\"dataframe\">\n",
       "  <thead>\n",
       "    <tr style=\"text-align: right;\">\n",
       "      <th></th>\n",
       "      <th>price</th>\n",
       "      <th>area</th>\n",
       "    </tr>\n",
       "  </thead>\n",
       "  <tbody>\n",
       "    <tr>\n",
       "      <th>0</th>\n",
       "      <td>13300000</td>\n",
       "      <td>7420</td>\n",
       "    </tr>\n",
       "    <tr>\n",
       "      <th>1</th>\n",
       "      <td>12250000</td>\n",
       "      <td>8960</td>\n",
       "    </tr>\n",
       "    <tr>\n",
       "      <th>2</th>\n",
       "      <td>12250000</td>\n",
       "      <td>9960</td>\n",
       "    </tr>\n",
       "    <tr>\n",
       "      <th>3</th>\n",
       "      <td>12215000</td>\n",
       "      <td>7500</td>\n",
       "    </tr>\n",
       "    <tr>\n",
       "      <th>4</th>\n",
       "      <td>11410000</td>\n",
       "      <td>7420</td>\n",
       "    </tr>\n",
       "  </tbody>\n",
       "</table>\n",
       "</div>"
      ],
      "text/plain": [
       "      price  area\n",
       "0  13300000  7420\n",
       "1  12250000  8960\n",
       "2  12250000  9960\n",
       "3  12215000  7500\n",
       "4  11410000  7420"
      ]
     },
     "execution_count": 6,
     "metadata": {},
     "output_type": "execute_result"
    }
   ],
   "source": [
    "slrdf = housing_data[['price', 'area']]\n",
    "slrdf.head()"
   ]
  },
  {
   "cell_type": "markdown",
   "id": "6f7b7ec4",
   "metadata": {},
   "source": [
    "### Visualizing Data points, the line of best fit, and residuals"
   ]
  },
  {
   "cell_type": "code",
   "execution_count": 7,
   "id": "7b57a155",
   "metadata": {},
   "outputs": [
    {
     "data": {
      "text/html": [
       "<div>\n",
       "<style scoped>\n",
       "    .dataframe tbody tr th:only-of-type {\n",
       "        vertical-align: middle;\n",
       "    }\n",
       "\n",
       "    .dataframe tbody tr th {\n",
       "        vertical-align: top;\n",
       "    }\n",
       "\n",
       "    .dataframe thead th {\n",
       "        text-align: right;\n",
       "    }\n",
       "</style>\n",
       "<table border=\"1\" class=\"dataframe\">\n",
       "  <thead>\n",
       "    <tr style=\"text-align: right;\">\n",
       "      <th></th>\n",
       "      <th>price</th>\n",
       "      <th>area</th>\n",
       "    </tr>\n",
       "  </thead>\n",
       "  <tbody>\n",
       "    <tr>\n",
       "      <th>count</th>\n",
       "      <td>5.450000e+02</td>\n",
       "      <td>545.000000</td>\n",
       "    </tr>\n",
       "    <tr>\n",
       "      <th>mean</th>\n",
       "      <td>4.766729e+06</td>\n",
       "      <td>5150.541284</td>\n",
       "    </tr>\n",
       "    <tr>\n",
       "      <th>std</th>\n",
       "      <td>1.870440e+06</td>\n",
       "      <td>2170.141023</td>\n",
       "    </tr>\n",
       "    <tr>\n",
       "      <th>min</th>\n",
       "      <td>1.750000e+06</td>\n",
       "      <td>1650.000000</td>\n",
       "    </tr>\n",
       "    <tr>\n",
       "      <th>25%</th>\n",
       "      <td>3.430000e+06</td>\n",
       "      <td>3600.000000</td>\n",
       "    </tr>\n",
       "    <tr>\n",
       "      <th>50%</th>\n",
       "      <td>4.340000e+06</td>\n",
       "      <td>4600.000000</td>\n",
       "    </tr>\n",
       "    <tr>\n",
       "      <th>75%</th>\n",
       "      <td>5.740000e+06</td>\n",
       "      <td>6360.000000</td>\n",
       "    </tr>\n",
       "    <tr>\n",
       "      <th>max</th>\n",
       "      <td>1.330000e+07</td>\n",
       "      <td>16200.000000</td>\n",
       "    </tr>\n",
       "  </tbody>\n",
       "</table>\n",
       "</div>"
      ],
      "text/plain": [
       "              price          area\n",
       "count  5.450000e+02    545.000000\n",
       "mean   4.766729e+06   5150.541284\n",
       "std    1.870440e+06   2170.141023\n",
       "min    1.750000e+06   1650.000000\n",
       "25%    3.430000e+06   3600.000000\n",
       "50%    4.340000e+06   4600.000000\n",
       "75%    5.740000e+06   6360.000000\n",
       "max    1.330000e+07  16200.000000"
      ]
     },
     "execution_count": 7,
     "metadata": {},
     "output_type": "execute_result"
    }
   ],
   "source": [
    "#Looking at the summary statistics of the dataset to understand the range of values\n",
    "slrdf.describe()"
   ]
  },
  {
   "cell_type": "code",
   "execution_count": 8,
   "id": "62220440",
   "metadata": {},
   "outputs": [
    {
     "data": {
      "text/plain": [
       "Text(0.5, 1.0, 'Scatter Plot of Area vs Price')"
      ]
     },
     "execution_count": 8,
     "metadata": {},
     "output_type": "execute_result"
    },
    {
     "data": {
      "image/png": "[encoded data removed]",
      "text/plain": [
       "<Figure size 432x288 with 1 Axes>"
      ]
     },
     "metadata": {
      "needs_background": "light"
     },
     "output_type": "display_data"
    }
   ],
   "source": [
    "# Defining the price as the dependent variable Y, and the area of the house as the independent variable X in the \n",
    "# scatterplot, and plotting the data. Y is on the Y axis and X is plotted on the X axis.\n",
    "sns.scatterplot(x='area', y='price', data=slrdf)\n",
    "\n",
    "# Add axis labels and a title to the graph\n",
    "plt.xlabel(\"Area (in sq feet)\")\n",
    "plt.ylabel(\"Price (in $10s of millions)\")\n",
    "plt.title(\"Scatter Plot of Area vs Price\")"
   ]
  },
  {
   "cell_type": "markdown",
   "id": "0fc00a3d",
   "metadata": {},
   "source": [
    "To visualize the data, Seaborn's **scatterplot** function has been used. Building a scatterplot is a good way to explore raw relationships between two variables."
   ]
  },
  {
   "cell_type": "code",
   "execution_count": 9,
   "id": "cc1ec56d",
   "metadata": {},
   "outputs": [
    {
     "data": {
      "text/plain": [
       "Text(0.5, 1.0, 'Scatter Plot of Area vs Price')"
      ]
     },
     "execution_count": 9,
     "metadata": {},
     "output_type": "execute_result"
    },
    {
     "data": {
      "image/png": "[encoded data removed]",
      "text/plain": [
       "<Figure size 432x288 with 1 Axes>"
      ]
     },
     "metadata": {
      "needs_background": "light"
     },
     "output_type": "display_data"
    }
   ],
   "source": [
    "#Plotting the data points on a scatterplot and adding a line of best fit\n",
    "fig2 = sns.regplot(data=slrdf, x= \"area\", y=\"price\", line_kws={'color': 'red'})\n",
    "\n",
    "# Add axis labels and a title to the graph\n",
    "plt.xlabel(\"Area (in sq feet)\")\n",
    "plt.ylabel(\"Price (in $10s of millions)\")\n",
    "plt.title(\"Scatter Plot of Area vs Price\")"
   ]
  },
  {
   "cell_type": "markdown",
   "id": "8e0d3b42",
   "metadata": {},
   "source": [
    "To identify a trend in the data, Seaborn's regplot function has been used. This function is different from scatterplot in that it helps us to build a scatterplot and fit a regression line on the data with no heavy computing involved from the user. Regplot calculates the coefficient and slope without showing it to us. We will learn how to do this in later steps. "
   ]
  },
  {
   "cell_type": "code",
   "execution_count": 10,
   "id": "3faadf3a",
   "metadata": {},
   "outputs": [],
   "source": [
    "# Compute regression coefficients (slope and intercept) to use for the below regression plot\n",
    "pfslope, pfintercept = np.polyfit(slrdf[\"area\"], slrdf[\"price\"], 1)"
   ]
  },
  {
   "cell_type": "markdown",
   "id": "3f784ff6",
   "metadata": {},
   "source": [
    "One line of code to find the slope and y-intercept of our regression line. Pretty smooth, right? This function takes in 3 arguments: the x variable, the y variable, and the degree of the polynomial. Because we are building a linear regression model, we know from the formula that x is a first-degree polynomial. <br>\n",
    "\n",
    "While the NumPy polyfit is a completely acceptable function to build a regression line, there are a few more steps we need to undertake to do it the Machine Learning way. For now, let's use this function because our focus here is building a plot that demonstrates what residuals are visually. And we can't really do that without the predictions of a line of best fit. "
   ]
  },
  {
   "cell_type": "code",
   "execution_count": 11,
   "id": "4d91b9c7",
   "metadata": {},
   "outputs": [
    {
     "data": {
      "image/png": "[encoded data removed]",
      "text/plain": [
       "<Figure size 432x288 with 1 Axes>"
      ]
     },
     "metadata": {
      "needs_background": "light"
     },
     "output_type": "display_data"
    }
   ],
   "source": [
    "# Create scatter plot with regression line\n",
    "sns.regplot(data=slrdf, x=\"area\", y=\"price\", line_kws={'color': 'red'})\n",
    "\n",
    "#Building a for-loop to map the actual y value and the predicted y value. \n",
    "for idx, i in enumerate([1, 69, 125]):  \n",
    "    sample_x = slrdf[\"area\"].iloc[i]\n",
    "    sample_y = slrdf[\"price\"].iloc[i]\n",
    "    predicted_y = pfslope * sample_x + pfintercept\n",
    "\n",
    "#The residual is the length of the distance between these two points\n",
    "    actual_label = \"Actual Point\" if idx == 0 else \"\"\n",
    "    residual_label = \"Residual\" if idx == 0 else \"\"\n",
    "# The above 2 lines of code are for the legend\n",
    "\n",
    "# Plot the example observation using a different color\n",
    "    plt.scatter(sample_x, sample_y, color='blue', label=actual_label, zorder=3)\n",
    "\n",
    "# Draw the residual line from the predicted sample y value to the sample point\n",
    "    plt.vlines(x=sample_x, ymin=predicted_y, ymax=sample_y, color='green',\n",
    "               linestyle='dashed', label=residual_label)\n",
    "\n",
    "# Axes labels and title\n",
    "plt.xlabel(\"Area (in sq feet)\")\n",
    "plt.ylabel(\"Price (in $10s of millions)\")\n",
    "plt.title(\"Scatter Plot of Area vs Price with Residual\")\n",
    "plt.legend()\n",
    "plt.show()"
   ]
  },
  {
   "cell_type": "markdown",
   "id": "b1742427",
   "metadata": {},
   "source": [
    "Scroll down to the near end of the code file to learn how fig. 4 is plotted"
   ]
  },
  {
   "cell_type": "code",
   "execution_count": 12,
   "id": "8382bbff",
   "metadata": {},
   "outputs": [
    {
     "data": {
      "image/png": "[encoded data removed]",
      "text/plain": [
       "<Figure size 432x288 with 1 Axes>"
      ]
     },
     "metadata": {
      "needs_background": "light"
     },
     "output_type": "display_data"
    }
   ],
   "source": [
    "#Plotting the y-intercept\n",
    "# Compute the regression line (slope & intercept)\n",
    "pfslope, pfintercept = np.polyfit(slrdf[\"area\"], slrdf[\"price\"], 1)\n",
    "\n",
    "# Create the scatter plot with regression line\n",
    "sns.scatterplot(x='area', y='price', data=slrdf)\n",
    "\n",
    "# Manually plot the regression line using slope and intercept\n",
    "x_values = np.linspace(0, max(slrdf[\"area\"]), 100)\n",
    "y_values = pfslope * x_values + pfintercept\n",
    "plt.plot(x_values, y_values, color='red', linewidth=2)\n",
    "\n",
    "# Mark the y-intercept (where x=0)\n",
    "plt.scatter(0, pfintercept, color='black', s=70, label=\"Y-Intercept\")\n",
    "plt.xlim(left=0)\n",
    "\n",
    "# Labels and title\n",
    "plt.xlabel(\"Area (sq ft)\")\n",
    "plt.ylabel(\"Price ($10,000s)\")\n",
    "plt.title(\"Regression Plot with Y-Intercept\")\n",
    "plt.legend()\n",
    "plt.show()"
   ]
  },
  {
   "cell_type": "markdown",
   "id": "850dd2e6",
   "metadata": {},
   "source": [
    "### Building the Model"
   ]
  },
  {
   "cell_type": "code",
   "execution_count": 13,
   "id": "65f2b694",
   "metadata": {},
   "outputs": [],
   "source": [
    "from sklearn.model_selection import train_test_split\n",
    "# Define independent (X) and dependent (y) variables\n",
    "X = slrdf[\"area\"].values.reshape(-1, 1)\n",
    "y = slrdf[\"price\"].values\n",
    "\n",
    "# Split into Training and Testing sets (80% train, 20% test)\n",
    "X_train, X_test, y_train, y_test = train_test_split(X, y, test_size=0.2, random_state=42)"
   ]
  },
  {
   "cell_type": "markdown",
   "id": "59cf1cf7",
   "metadata": {},
   "source": [
    "The dataset is to be split into 2 subsets. 80% of the dataset will be used for training the model, and 20% of the dataset will be used to test and evaluate the model’s performance. We do this because to evaluate a model's performance, we need to compare the actual y values to the predicted y values. We couldn't just generate random square footage data because once we make a prediction, how can we test how close those values are to the actual price?"
   ]
  },
  {
   "cell_type": "markdown",
   "id": "ada1b835",
   "metadata": {},
   "source": [
    "#### Using SciKit Learn"
   ]
  },
  {
   "cell_type": "code",
   "execution_count": 14,
   "id": "03085d00",
   "metadata": {},
   "outputs": [
    {
     "data": {
      "text/plain": [
       "LinearRegression()"
      ]
     },
     "execution_count": 14,
     "metadata": {},
     "output_type": "execute_result"
    }
   ],
   "source": [
    "from sklearn.linear_model import LinearRegression\n",
    "# Train the model on training data\n",
    "model = LinearRegression()\n",
    "model.fit(X_train, y_train)"
   ]
  },
  {
   "cell_type": "markdown",
   "id": "17900e5c",
   "metadata": {},
   "source": [
    "In these two steps, we have defined the 'model' to be a linear regression model, and we have train the model using the training datasets X_train, y_train. The fit funtion takes in 2 arguments; the X values and the Y values."
   ]
  },
  {
   "cell_type": "code",
   "execution_count": 15,
   "id": "7cc1be13",
   "metadata": {},
   "outputs": [
    {
     "name": "stdout",
     "output_type": "stream",
     "text": [
      "Coefficient: 425.7298419387828\n",
      "Intercept: 2512254.26\n"
     ]
    }
   ],
   "source": [
    "#Calculate and print β₁ (slope/ coefficient) and β₀ (y-intercept)\n",
    "slope = model.coef_[0]  \n",
    "intercept = model.intercept_  \n",
    "print('Coefficient: '+ str(slope))\n",
    "print('Intercept: '+ str(round(intercept,2)))"
   ]
  },
  {
   "cell_type": "markdown",
   "id": "eb22d913",
   "metadata": {},
   "source": [
    "The above section is calculating the β0 (y-intercept) and β1 (slope/ coefficient) values from the model and printing them. "
   ]
  },
  {
   "cell_type": "markdown",
   "id": "c5bb1f47",
   "metadata": {},
   "source": [
    "#### Coded Manually"
   ]
  },
  {
   "cell_type": "code",
   "execution_count": 16,
   "id": "17babdd0",
   "metadata": {},
   "outputs": [
    {
     "name": "stdout",
     "output_type": "stream",
     "text": [
      "Coefficient: 425.7298419387829\n",
      "Intercept: 2512254.263959343\n"
     ]
    }
   ],
   "source": [
    "#Calculate and print β₁ (coefficient)\n",
    "#Function's arguments are X and Y values (in this case, from the training dataset)\n",
    "def betaone(xtrain, ytrain):\n",
    "#Computing the means xbar and ybar by using NumPy's mean function over the x and y variables\n",
    "    xbar = np.mean(xtrain)\n",
    "    ybar = np.mean(ytrain)\n",
    "\n",
    "#Building a for-loop to calculate deviation of x and y at each observation (i) \n",
    "#by subtracting the mean from the obs.\n",
    "    xycov = 0\n",
    "    xsdev = 0\n",
    "    for i in range(len(xtrain)):\n",
    "        xdev = xtrain[i] - xbar\n",
    "        ydev = ytrain[i] - ybar\n",
    "        \n",
    "#Using the formula to calculate the XY covariance (another name for the numerator in the formula) and summing each\n",
    "#result for every observation.\n",
    "        xycov += xdev * ydev\n",
    "    \n",
    "#Using the formula to calculate the square of the X deviance (another name for the denominator in the formula)  \n",
    "#and summing each result for every observation.\n",
    "        xsdev += xdev * xdev\n",
    "\n",
    "#Dividing the XY covariance by the square of the X deviance and returning the value\n",
    "    return (xycov / xsdev).item()\n",
    " \n",
    "coeff = betaone(X_train, y_train)\n",
    "\n",
    "\n",
    "#Calculate and print β₀ (y-intercept)\n",
    "#Function's arguments are X and Y values (in this case, from the training dataset), and the coefficient calculated\n",
    "#by the betaone function above.\n",
    "def betazero(xtrain, ytrain, c):\n",
    "#Computing the means xbar and ybar by using NumPy's mean function over the x and y variables\n",
    "    xbar = np.mean(xtrain)\n",
    "    ybar = np.mean(ytrain)\n",
    "    \n",
    "#Returning the result of the β zero formula   \n",
    "    return ybar - coeff * xbar\n",
    "\n",
    "interc = betazero(X_train, y_train, coeff)\n",
    "\n",
    "#Printing the results\n",
    "print('Coefficient: '+ str(coeff))\n",
    "print('Intercept: '+ str(interc))"
   ]
  },
  {
   "cell_type": "markdown",
   "id": "b1056f45",
   "metadata": {},
   "source": [
    "Manually coding the functions takes a few more steps, but enforces the math we studied in the article. Here, I have defined 2 functions, *betaone* and *betazero*, to calculate the coefficient and y-intercept."
   ]
  },
  {
   "cell_type": "code",
   "execution_count": 17,
   "id": "d1b5bc6d",
   "metadata": {},
   "outputs": [
    {
     "name": "stdout",
     "output_type": "stream",
     "text": [
      "9.314362614532001e-10\n"
     ]
    },
    {
     "data": {
      "text/html": [
       "<div>\n",
       "<style scoped>\n",
       "    .dataframe tbody tr th:only-of-type {\n",
       "        vertical-align: middle;\n",
       "    }\n",
       "\n",
       "    .dataframe tbody tr th {\n",
       "        vertical-align: top;\n",
       "    }\n",
       "\n",
       "    .dataframe thead th {\n",
       "        text-align: right;\n",
       "    }\n",
       "</style>\n",
       "<table border=\"1\" class=\"dataframe\">\n",
       "  <thead>\n",
       "    <tr style=\"text-align: right;\">\n",
       "      <th></th>\n",
       "      <th>scikit list</th>\n",
       "      <th>manual list</th>\n",
       "    </tr>\n",
       "  </thead>\n",
       "  <tbody>\n",
       "    <tr>\n",
       "      <th>0</th>\n",
       "      <td>2.512254e+06</td>\n",
       "      <td>2.512254e+06</td>\n",
       "    </tr>\n",
       "    <tr>\n",
       "      <th>1</th>\n",
       "      <td>4.257298e+02</td>\n",
       "      <td>4.257298e+02</td>\n",
       "    </tr>\n",
       "  </tbody>\n",
       "</table>\n",
       "</div>"
      ],
      "text/plain": [
       "    scikit list   manual list\n",
       "0  2.512254e+06  2.512254e+06\n",
       "1  4.257298e+02  4.257298e+02"
      ]
     },
     "execution_count": 17,
     "metadata": {},
     "output_type": "execute_result"
    }
   ],
   "source": [
    "# Let's check to see if there is a difference between the values calculated using the scikit library,\n",
    "# and those calculated manually.\n",
    "# scikit list\n",
    "coef_list = [intercept, slope]\n",
    "\n",
    "# manual list\n",
    "man_list = [interc,coeff]\n",
    "\n",
    "# Make a dataframe to compare values\n",
    "ddf = pd.DataFrame({\"scikit list\": coef_list, \"manual list\": man_list})\n",
    "\n",
    "#calculating the absolute difference between each corresponding value\n",
    "total_abs_diff = sum(abs(a - b) for a, b in zip(coef_list, man_list))  \n",
    "\n",
    "# show values\n",
    "print(total_abs_diff)\n",
    "ddf.head()"
   ]
  },
  {
   "cell_type": "markdown",
   "id": "889655c8",
   "metadata": {},
   "source": [
    "The above dataframe proves that we are comparing like values from each calculation method. The difference between the two values is -  0.0000000009314362614532001 -, so negligible that even if the difference were to be rounded to the ninth decimal value, it would be 0. Those are practically the same numbers!"
   ]
  },
  {
   "cell_type": "markdown",
   "id": "89bbf5e3",
   "metadata": {},
   "source": [
    "### Prediction"
   ]
  },
  {
   "cell_type": "markdown",
   "id": "f0ffdbd8",
   "metadata": {},
   "source": [
    "#### Using SciKit Learn "
   ]
  },
  {
   "cell_type": "code",
   "execution_count": 18,
   "id": "c554d84e",
   "metadata": {},
   "outputs": [
    {
     "data": {
      "text/plain": [
       "array([5024060.33139816, 5279498.23656143, 4232202.82539203,\n",
       "       4640903.47365326, 4198144.43803692])"
      ]
     },
     "execution_count": 18,
     "metadata": {},
     "output_type": "execute_result"
    }
   ],
   "source": [
    "# Predict house prices on test data\n",
    "Y_pred = model.predict(X_test)\n",
    "Y_pred[0:5]"
   ]
  },
  {
   "cell_type": "markdown",
   "id": "88e22a64",
   "metadata": {},
   "source": [
    "We used model.fit to train the model, now we are using model.predict to get the model's predictions of house prices based on the square footage values in X_test. I am only outputting the first five predictions so you can see them."
   ]
  },
  {
   "cell_type": "markdown",
   "id": "f1afaba0",
   "metadata": {},
   "source": [
    "#### Manually Coded"
   ]
  },
  {
   "cell_type": "code",
   "execution_count": 19,
   "id": "767cf31e",
   "metadata": {},
   "outputs": [
    {
     "data": {
      "text/plain": [
       "[array([5024060.33139816]),\n",
       " array([5279498.23656143]),\n",
       " array([4232202.82539203]),\n",
       " array([4640903.47365326]),\n",
       " array([4198144.43803692])]"
      ]
     },
     "execution_count": 19,
     "metadata": {},
     "output_type": "execute_result"
    }
   ],
   "source": [
    "# Predict house prices on test data\n",
    "def slr_predictions(xtest, c,i):\n",
    "#Initializing the ypred list that will hold all predictions given by the model. \n",
    "    ypred = []\n",
    "    \n",
    "#For each observation x, its corresponding y is calculated using the lin. reg. formula and added to the ypred list\n",
    "    for x in xtest:\n",
    "        y = i + c*x\n",
    "        ypred.append(y)      \n",
    "    return ypred\n",
    "\n",
    "slr_predictions(X_test, coeff,interc)[0:5]"
   ]
  },
  {
   "cell_type": "markdown",
   "id": "e3892f39",
   "metadata": {},
   "source": [
    "I am using the Y = β₀ + β₁X formula to manually calculate the predictions of this model,. I am using the outputs of the *betaone* and *betazero* functions as my β₀ and β₁ values respectively."
   ]
  },
  {
   "cell_type": "markdown",
   "id": "ff3b603b",
   "metadata": {},
   "source": [
    "### Model Evaluation"
   ]
  },
  {
   "cell_type": "markdown",
   "id": "50bb00d1",
   "metadata": {},
   "source": [
    "#### Using SciKit Learn "
   ]
  },
  {
   "cell_type": "code",
   "execution_count": 20,
   "id": "f8cdcaab",
   "metadata": {},
   "outputs": [
    {
     "name": "stdout",
     "output_type": "stream",
     "text": [
      "Mean Absolute Error (MAE): 1474748.13\n",
      "Mean Squared Error (MSE): 3675286604768.19\n",
      "Root Mean Squared Error (RMSE): 1917103.70\n",
      "R² Score: 0.2729\n"
     ]
    }
   ],
   "source": [
    "from sklearn.metrics import mean_absolute_error, mean_squared_error, r2_score\n",
    "#Calculate Evaluation Metrics:\n",
    "#Mean absolute error\n",
    "mae = mean_absolute_error(y_test, Y_pred)\n",
    "#Mean square error\n",
    "mse = mean_squared_error(y_test, Y_pred)\n",
    "#Root mean square error\n",
    "rmse = np.sqrt(mse)\n",
    "#R-square score\n",
    "r2 = r2_score(y_test, Y_pred)\n",
    "\n",
    "# Print Results\n",
    "print(f\"Mean Absolute Error (MAE): {mae:.2f}\")\n",
    "print(f\"Mean Squared Error (MSE): {mse:.2f}\")\n",
    "print(f\"Root Mean Squared Error (RMSE): {rmse:.2f}\")\n",
    "print(f\"R² Score: {r2:.4f}\")"
   ]
  },
  {
   "cell_type": "markdown",
   "id": "1f22f4dc",
   "metadata": {},
   "source": [
    "Scikit learn also has in-built functions for evaluations. The Mean absolute error, mean squared error, and R-squared score can be calculated using their corresponding functions. Root mean squared error is calculated by taking the square root of MSE, which can be calculated in one line of code."
   ]
  },
  {
   "cell_type": "markdown",
   "id": "efdd83d5",
   "metadata": {},
   "source": [
    "#### Manually Coded"
   ]
  },
  {
   "cell_type": "code",
   "execution_count": 21,
   "id": "156f3836",
   "metadata": {},
   "outputs": [
    {
     "name": "stdout",
     "output_type": "stream",
     "text": [
      "Mean Absolute Error (MAE): 1474748.13\n",
      "Mean Squared Error (MSE): 3675286604768.18\n",
      "Root Mean Squared Error (RMSE): 1917103.70\n",
      "R² Score: 0.2729\n"
     ]
    }
   ],
   "source": [
    "#Calculating MAE\n",
    "def mae(ytest, ypred):\n",
    "    total_res = 0\n",
    "    for i in range(len(ytest)):\n",
    "#Calculating the absolute residual for each observation (|y actual - y predicted|)\n",
    "        residual = np.abs(ytest[i] - ypred[i])\n",
    "    \n",
    "#Summing up all the residuals\n",
    "        total_res += residual\n",
    "    \n",
    "#Calculating the average absolute residuals by dividing the total absolute residuals by the the no. of obs. \n",
    "    mae_score = total_res/len(ytest)\n",
    "    return mae_score\n",
    "\n",
    "mmae = mae(y_test, Y_pred)\n",
    "\n",
    "\n",
    "#Calculating MSE\n",
    "def mse(ytest, ypred):\n",
    "    total_res = 0\n",
    "    for i in range(len(ytest)):\n",
    "#Calculating the residual for each observation (y actual - y predicted)\n",
    "        residual = ytest[i] - ypred[i]\n",
    "    \n",
    "#Calculating the square of the residual for each observation\n",
    "        total_res += residual**2\n",
    "    \n",
    "#Calculating the average squared residuals by dividing the total absolute residuals by the the no. of obs.\n",
    "    mse_score = total_res/len(ytest)\n",
    "    return mse_score\n",
    "\n",
    "mmse = mse(y_test, Y_pred)\n",
    "\n",
    "\n",
    "#Calculating RMSE\n",
    "def rmse(ytest, ypred): \n",
    "    total_res = 0\n",
    "    for i in range(len(ytest)):\n",
    "#Calculating the residual for each observation (y actual - y predicted)\n",
    "        residual = ytest[i] - ypred[i]\n",
    "    \n",
    "#Calculating the square of the residual for each observation\n",
    "        total_res += residual**2\n",
    "    \n",
    "#Calculating the average squared residuals by dividing the total absolute residuals by the the no. of obs.\n",
    "    mse_score = total_res/len(ytest)\n",
    "    \n",
    "#Calculating the square root of the MSE score\n",
    "    rmse_score = mse_score**0.5\n",
    "    return rmse_score\n",
    "\n",
    "mrsme = rmse(y_test, Y_pred)\n",
    "\n",
    "\n",
    "#Calculating R Squared\n",
    "def Rsq(ytest, ypred):\n",
    "#Calculating SSR (the numerator of the SSR formula)\n",
    "    SSR = 0\n",
    "    for i in range(len(ytest)):\n",
    "#Calculating the residual for each observation (y actual - y predicted)\n",
    "        residual = ytest[i] - ypred[i]\n",
    "    \n",
    "#According to the SSR formula, SSR is the residual squared \n",
    "        SSR += residual**2\n",
    "    \n",
    "#Calculating the mean of the actual Y values for SST\n",
    "    Y_mean = np.mean(ytest)\n",
    "    \n",
    "    SST = 0\n",
    "    for i in range(len(ytest)):\n",
    "#Calculating the variance in the actual Y values (subtracting the mean from each y obs)\n",
    "        var = ytest[i] - Y_mean\n",
    "    \n",
    "#According to the SST formula, SST is the variance squared \n",
    "        SST += var**2\n",
    "    \n",
    "#Finally, we apply the R-squared formula using SSR and SST. The explained variance ratio is subtracted from 1.\n",
    "    rsquared = 1 - (SSR/SST)\n",
    "    return rsquared\n",
    "\n",
    "mr2 = Rsq(y_test, Y_pred)\n",
    "\n",
    "\n",
    "# Print Results\n",
    "print(f\"Mean Absolute Error (MAE): {mmae:.2f}\")\n",
    "print(f\"Mean Squared Error (MSE): {mmse:.2f}\")\n",
    "print(f\"Root Mean Squared Error (RMSE): {mrsme:.2f}\")\n",
    "print(f\"R² Score: {mr2:.4f}\")"
   ]
  },
  {
   "cell_type": "markdown",
   "id": "e98e61cf",
   "metadata": {},
   "source": [
    "### Histogram of residuals"
   ]
  },
  {
   "cell_type": "code",
   "execution_count": 22,
   "id": "65d1cf46",
   "metadata": {},
   "outputs": [],
   "source": [
    "#Calculating Residuals, and adding it to a new dataframe\n",
    "resdf = slrdf[['price', 'area']]\n",
    "allpred = model.predict(X)\n",
    "residuals = y - allpred\n",
    "resdf['residuals'] = residuals"
   ]
  },
  {
   "cell_type": "markdown",
   "id": "4a38314f",
   "metadata": {},
   "source": [
    "To see the distribution of the residuals, let's calculate them first. If you look closely, you'll notice that these residuals are slightly different from the ones that we've been using. The difference is that we had been looking at the residuals between the y actual and y predicted values of the test set. Now we are calculating the residuals for ALL observations in the dataset."
   ]
  },
  {
   "cell_type": "code",
   "execution_count": 23,
   "id": "5c6a6ddf",
   "metadata": {},
   "outputs": [
    {
     "data": {
      "image/png": "[encoded data removed]",
      "text/plain": [
       "<Figure size 720x432 with 1 Axes>"
      ]
     },
     "metadata": {
      "needs_background": "light"
     },
     "output_type": "display_data"
    }
   ],
   "source": [
    "# Plot histogram of residuals using matplotlib\n",
    "#Inititalizing the size of the plot\n",
    "plt.figure(figsize=(10, 6))\n",
    "#Telling the hist function which variable we want to plot, how many bins we want, and the colors\n",
    "plt.hist(residuals, bins=10, color='blue', edgecolor='black', density=True)\n",
    "\n",
    "# KDE line (manual alternative)\n",
    "from scipy.stats import gaussian_kde\n",
    "#Using the Python scipy statistics library, we are drawing a distribution line based on the histogram\n",
    "kde = gaussian_kde(residuals)\n",
    "x = np.linspace(min(residuals), max(residuals), 100)\n",
    "plt.plot(x, kde(x), color='red', label='KDE')\n",
    "\n",
    "plt.xlabel(\"Residuals\")\n",
    "plt.ylabel(\"Density\")\n",
    "plt.title(\"Histogram of Residuals\")\n",
    "plt.legend()\n",
    "plt.show()"
   ]
  },
  {
   "cell_type": "markdown",
   "id": "70806f45",
   "metadata": {},
   "source": [
    "### Heteroscedasticity Function of Fun"
   ]
  },
  {
   "cell_type": "code",
   "execution_count": 24,
   "id": "f01baa4b",
   "metadata": {},
   "outputs": [],
   "source": [
    "def hff(upperlim, lowerlim):\n",
    "    # Calculate the upperlimit-th and lower-limit-th percentiles for each column\n",
    "    lower = resdf['residuals'].quantile(lowerlim)\n",
    "    upper = resdf['residuals'].quantile(upperlim)\n",
    "\n",
    "    # Filter out rows where values are outside the upperlimit-th and lower-limit-th percentiles\n",
    "    filtered_df = resdf[(resdf['residuals'] >= lower) & (resdf['residuals'] <= upper)]\n",
    "    \n",
    "    # Define independent (X) and dependent (y) variables\n",
    "    X = filtered_df[\"area\"].values.reshape(-1, 1)\n",
    "    y = filtered_df[\"price\"].values\n",
    "\n",
    "    # Step 1: Split into Training and Testing sets (80% train, 20% test)\n",
    "    X_train, X_test, y_train, y_test = train_test_split(X, y, test_size=0.2, random_state=42)\n",
    "    \n",
    "    # Step 2: Train the model on training data\n",
    "    model = LinearRegression()\n",
    "    model.fit(X_train, y_train)\n",
    "    \n",
    "    # Step 3: Predict house prices on test data\n",
    "    Y_pred = model.predict(X_test)\n",
    "    \n",
    "    # Step 4: Calculate Evaluation Metrics\n",
    "    mae = mean_absolute_error(y_test, Y_pred)\n",
    "    mse = mean_squared_error(y_test, Y_pred)\n",
    "    rmse = np.sqrt(mse)\n",
    "    r2 = r2_score(y_test, Y_pred)\n",
    "\n",
    "    # Print Results\n",
    "    print('The new MEA is '+ str(round(mae,2)) + ', which is '+ str(round(1474748.13 - mae,2)) + ' lower than the original score.')\n",
    "    print('The new MSE is '+ str(round(mse,2)) + ', which is '+ str(round(3675286604768.18 - mse,2)) + ' lower than the original score.')\n",
    "    print('The new RMSE is '+ str(round(rmse,2)) + ', which is '+ str(round(1917103.70 - rmse,2)) + ' lower than the original score.')\n",
    "    print('The new R² score is '+ str(round(r2,2)) + ', which is '+ str(round(r2-0.27,2)) + ' higher than the original score.')"
   ]
  },
  {
   "cell_type": "markdown",
   "id": "a828f5f2",
   "metadata": {},
   "source": [
    "Here are some example inputs and results"
   ]
  },
  {
   "cell_type": "code",
   "execution_count": 25,
   "id": "9c0989ff",
   "metadata": {},
   "outputs": [
    {
     "name": "stdout",
     "output_type": "stream",
     "text": [
      "The new MEA is 898907.22, which is 575840.91 lower than the original score.\n",
      "The new MSE is 1201749864167.1, which is 2473536740601.08 lower than the original score.\n",
      "The new RMSE is 1096243.52, which is 820860.18 lower than the original score.\n",
      "The new R² score is 0.57, which is 0.3 higher than the original score.\n"
     ]
    }
   ],
   "source": [
    "hff(0.95, 0.05)"
   ]
  },
  {
   "cell_type": "code",
   "execution_count": 26,
   "id": "f3af73a5",
   "metadata": {},
   "outputs": [
    {
     "name": "stdout",
     "output_type": "stream",
     "text": [
      "The new MEA is 159235.92, which is 1315512.21 lower than the original score.\n",
      "The new MSE is 29830928596.73, which is 3645455676171.44 lower than the original score.\n",
      "The new RMSE is 172716.32, which is 1744387.38 lower than the original score.\n",
      "The new R² score is 0.97, which is 0.7 higher than the original score.\n"
     ]
    }
   ],
   "source": [
    "hff(0.60, 0.40)"
   ]
  },
  {
   "cell_type": "code",
   "execution_count": 27,
   "id": "c1412626",
   "metadata": {},
   "outputs": [
    {
     "name": "stdout",
     "output_type": "stream",
     "text": [
      "The new MEA is 463066.42, which is 1011681.71 lower than the original score.\n",
      "The new MSE is 275732237081.44, which is 3399554367686.74 lower than the original score.\n",
      "The new RMSE is 525102.12, which is 1392001.58 lower than the original score.\n",
      "The new R² score is 0.69, which is 0.42 higher than the original score.\n"
     ]
    }
   ],
   "source": [
    "hff(0.75, 0.25)"
   ]
  }
 ],
 "metadata": {
  "kernelspec": {
   "display_name": "Python 3 (ipykernel)",
   "language": "python",
   "name": "python3"
  },
  "language_info": {
   "codemirror_mode": {
    "name": "ipython",
    "version": 3
   },
   "file_extension": ".py",
   "mimetype": "text/x-python",
   "name": "python",
   "nbconvert_exporter": "python",
   "pygments_lexer": "ipython3",
   "version": "3.9.12"
  }
 },
 "nbformat": 4,
 "nbformat_minor": 5
}
