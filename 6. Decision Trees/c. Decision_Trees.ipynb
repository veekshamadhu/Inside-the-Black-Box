{
 "cells": [
  {
   "cell_type": "markdown",
   "id": "1cd7c4cb",
   "metadata": {},
   "source": [
    "Data Source: https://www.kaggle.com/datasets/hugomathien/soccer/data"
   ]
  },
  {
   "cell_type": "markdown",
   "id": "91c66b9e",
   "metadata": {},
   "source": [
    "SQL Tables:<br>\n",
    "Country <br>\n",
    "League<br>\n",
    "Match<br>\n",
    "Player<br>\n",
    "Player_Attributes<br>\n",
    "Team<br>\n",
    "Team_Attributes\n",
    "\n",
    "SQL code: Extracted and engineered team-level and player-level match features by writing a comprehensive SQL query over a soccer match database. For each match, calculated:\n",
    "\n",
    "* Individual player attributes such as age, overall rating, and position-specific skill scores by joining match data with the latest available player records.\n",
    "\n",
    "* Team-level statistics including average height, average skill ratings (e.g., attacking, defensive, physical, field, shooting, and goalkeeping), and team tactical attributes.\n",
    "\n",
    "* Used subqueries to align player and team attributes with match timing, ensuring accurate historical context.\n",
    "\n",
    "* Engineered features for 22 players per match and aggregated them into meaningful summary statistics used for downstream machine learning models (e.g., match outcome prediction).\n",
    "\n",
    "This code file involved extensive data cleaning and feature engineering on a football match dataset. Missing values were handled by dropping columns with over 30% missingness and imputing the rest using median values. Feature engineering included creating team-level averages for player age and overall ratings, and constructing a binary target variable indicating whether the home team won. Irrelevant or redundant features—such as individual player IDs, ages, and ratings—were dropped to reduce dimensionality. Decision tree models were then trained and visualized to interpret model behavior."
   ]
  },
  {
   "cell_type": "code",
   "execution_count": 2,
   "id": "09987e01",
   "metadata": {},
   "outputs": [
    {
     "name": "stderr",
     "output_type": "stream",
     "text": [
      "/Users/veeksha_work/opt/anaconda3/lib/python3.9/site-packages/pandas/core/computation/expressions.py:21: UserWarning: Pandas requires version '2.8.4' or newer of 'numexpr' (version '2.8.1' currently installed).\n",
      "  from pandas.core.computation.check import NUMEXPR_INSTALLED\n",
      "/Users/veeksha_work/opt/anaconda3/lib/python3.9/site-packages/pandas/core/arrays/masked.py:60: UserWarning: Pandas requires version '1.3.6' or newer of 'bottleneck' (version '1.3.4' currently installed).\n",
      "  from pandas.core import (\n"
     ]
    }
   ],
   "source": [
    "# Importing necessary libraries for data analysis\n",
    "import pandas as pd\n",
    "import numpy as np"
   ]
  },
  {
   "cell_type": "code",
   "execution_count": 3,
   "id": "592019b1",
   "metadata": {},
   "outputs": [
    {
     "data": {
      "text/plain": [
       "(5000, 99)"
      ]
     },
     "execution_count": 3,
     "metadata": {},
     "output_type": "execute_result"
    }
   ],
   "source": [
    "# reading the csv file\n",
    "footballdf = pd.read_csv('EUfootball2.csv')\n",
    "footballdf.shape"
   ]
  },
  {
   "cell_type": "code",
   "execution_count": 4,
   "id": "444e70fe",
   "metadata": {},
   "outputs": [
    {
     "data": {
      "text/html": [
       "<div>\n",
       "<style scoped>\n",
       "    .dataframe tbody tr th:only-of-type {\n",
       "        vertical-align: middle;\n",
       "    }\n",
       "\n",
       "    .dataframe tbody tr th {\n",
       "        vertical-align: top;\n",
       "    }\n",
       "\n",
       "    .dataframe thead th {\n",
       "        text-align: right;\n",
       "    }\n",
       "</style>\n",
       "<table border=\"1\" class=\"dataframe\">\n",
       "  <thead>\n",
       "    <tr style=\"text-align: right;\">\n",
       "      <th></th>\n",
       "      <th>match_id</th>\n",
       "      <th>country_id</th>\n",
       "      <th>home_team_api_id</th>\n",
       "      <th>away_team_api_id</th>\n",
       "      <th>mdatetime</th>\n",
       "      <th>pdatetime</th>\n",
       "      <th>home_player_1</th>\n",
       "      <th>home_player1_age</th>\n",
       "      <th>home_player1_overall_rating</th>\n",
       "      <th>home_player_2</th>\n",
       "      <th>...</th>\n",
       "      <th>home_team_buildUpPlayPositioningClass</th>\n",
       "      <th>home_team_defenceDefenderLineClass</th>\n",
       "      <th>home_team_chanceCreationPositioningClass</th>\n",
       "      <th>away_team_buildUpskills</th>\n",
       "      <th>away_team_chanceCreationSkills</th>\n",
       "      <th>away_team_defenceSkills</th>\n",
       "      <th>away_team_buildUpPlayPositioningClass</th>\n",
       "      <th>away_team_defenceDefenderLineClass</th>\n",
       "      <th>away_team_chanceCreationPositioningClass</th>\n",
       "      <th>winner</th>\n",
       "    </tr>\n",
       "  </thead>\n",
       "  <tbody>\n",
       "    <tr>\n",
       "      <th>0</th>\n",
       "      <td>1992225</td>\n",
       "      <td>24558</td>\n",
       "      <td>9931</td>\n",
       "      <td>9956</td>\n",
       "      <td>2016-05-25</td>\n",
       "      <td>2015-10-02</td>\n",
       "      <td>42113</td>\n",
       "      <td>35</td>\n",
       "      <td>64</td>\n",
       "      <td>458806</td>\n",
       "      <td>...</td>\n",
       "      <td>Organised</td>\n",
       "      <td>Cover</td>\n",
       "      <td>Organised</td>\n",
       "      <td>54.67</td>\n",
       "      <td>50.67</td>\n",
       "      <td>42.00</td>\n",
       "      <td>Organised</td>\n",
       "      <td>Cover</td>\n",
       "      <td>Organised</td>\n",
       "      <td>9956</td>\n",
       "    </tr>\n",
       "    <tr>\n",
       "      <th>1</th>\n",
       "      <td>1992226</td>\n",
       "      <td>24558</td>\n",
       "      <td>7896</td>\n",
       "      <td>10190</td>\n",
       "      <td>2016-05-25</td>\n",
       "      <td>2016-03-10</td>\n",
       "      <td>330458</td>\n",
       "      <td>22</td>\n",
       "      <td>61</td>\n",
       "      <td>282287</td>\n",
       "      <td>...</td>\n",
       "      <td>NaN</td>\n",
       "      <td>NaN</td>\n",
       "      <td>NaN</td>\n",
       "      <td>48.67</td>\n",
       "      <td>38.33</td>\n",
       "      <td>42.67</td>\n",
       "      <td>Organised</td>\n",
       "      <td>Cover</td>\n",
       "      <td>Organised</td>\n",
       "      <td>7896</td>\n",
       "    </tr>\n",
       "  </tbody>\n",
       "</table>\n",
       "<p>2 rows × 99 columns</p>\n",
       "</div>"
      ],
      "text/plain": [
       "   match_id  country_id  home_team_api_id  away_team_api_id   mdatetime  \\\n",
       "0   1992225       24558              9931              9956  2016-05-25   \n",
       "1   1992226       24558              7896             10190  2016-05-25   \n",
       "\n",
       "    pdatetime  home_player_1  home_player1_age  home_player1_overall_rating  \\\n",
       "0  2015-10-02          42113                35                           64   \n",
       "1  2016-03-10         330458                22                           61   \n",
       "\n",
       "   home_player_2  ...  home_team_buildUpPlayPositioningClass  \\\n",
       "0         458806  ...                              Organised   \n",
       "1         282287  ...                                    NaN   \n",
       "\n",
       "   home_team_defenceDefenderLineClass  \\\n",
       "0                               Cover   \n",
       "1                                 NaN   \n",
       "\n",
       "   home_team_chanceCreationPositioningClass  away_team_buildUpskills  \\\n",
       "0                                 Organised                    54.67   \n",
       "1                                       NaN                    48.67   \n",
       "\n",
       "   away_team_chanceCreationSkills  away_team_defenceSkills  \\\n",
       "0                           50.67                    42.00   \n",
       "1                           38.33                    42.67   \n",
       "\n",
       "   away_team_buildUpPlayPositioningClass  away_team_defenceDefenderLineClass  \\\n",
       "0                              Organised                               Cover   \n",
       "1                              Organised                               Cover   \n",
       "\n",
       "   away_team_chanceCreationPositioningClass  winner  \n",
       "0                                 Organised    9956  \n",
       "1                                 Organised    7896  \n",
       "\n",
       "[2 rows x 99 columns]"
      ]
     },
     "execution_count": 4,
     "metadata": {},
     "output_type": "execute_result"
    }
   ],
   "source": [
    "# First look at features\n",
    "footballdf.head(2)"
   ]
  },
  {
   "cell_type": "markdown",
   "id": "2f7940af",
   "metadata": {},
   "source": [
    "### Cleaning Dataset"
   ]
  },
  {
   "cell_type": "code",
   "execution_count": 5,
   "id": "42a48046",
   "metadata": {},
   "outputs": [
    {
     "data": {
      "text/html": [
       "<div>\n",
       "<style scoped>\n",
       "    .dataframe tbody tr th:only-of-type {\n",
       "        vertical-align: middle;\n",
       "    }\n",
       "\n",
       "    .dataframe tbody tr th {\n",
       "        vertical-align: top;\n",
       "    }\n",
       "\n",
       "    .dataframe thead th {\n",
       "        text-align: right;\n",
       "    }\n",
       "</style>\n",
       "<table border=\"1\" class=\"dataframe\">\n",
       "  <thead>\n",
       "    <tr style=\"text-align: right;\">\n",
       "      <th></th>\n",
       "      <th>Missing</th>\n",
       "      <th>Percent</th>\n",
       "      <th>Total</th>\n",
       "    </tr>\n",
       "  </thead>\n",
       "  <tbody>\n",
       "    <tr>\n",
       "      <th>away_team_buildUpskills</th>\n",
       "      <td>199</td>\n",
       "      <td>3.98</td>\n",
       "      <td>5000</td>\n",
       "    </tr>\n",
       "    <tr>\n",
       "      <th>home_team_buildUpskills</th>\n",
       "      <td>195</td>\n",
       "      <td>3.90</td>\n",
       "      <td>5000</td>\n",
       "    </tr>\n",
       "    <tr>\n",
       "      <th>home_team_defenceSkills</th>\n",
       "      <td>93</td>\n",
       "      <td>1.86</td>\n",
       "      <td>5000</td>\n",
       "    </tr>\n",
       "  </tbody>\n",
       "</table>\n",
       "</div>"
      ],
      "text/plain": [
       "                         Missing  Percent  Total\n",
       "away_team_buildUpskills      199     3.98   5000\n",
       "home_team_buildUpskills      195     3.90   5000\n",
       "home_team_defenceSkills       93     1.86   5000"
      ]
     },
     "execution_count": 5,
     "metadata": {},
     "output_type": "execute_result"
    }
   ],
   "source": [
    "# Checking for missing values - threshold is 30%. \n",
    "missing_summary = (\n",
    "    pd.DataFrame({\n",
    "        'Missing': footballdf.isnull().sum(),\n",
    "        'Percent': footballdf.isnull().mean() * 100,\n",
    "        'Total': len(footballdf)\n",
    "    })\n",
    "    .query('Missing > 0')  # Only show columns with missing values\n",
    "    .sort_values('Missing', ascending=False)\n",
    ")\n",
    "\n",
    "missing_summary.head(3)"
   ]
  },
  {
   "cell_type": "code",
   "execution_count": 6,
   "id": "a11cc4f7",
   "metadata": {},
   "outputs": [
    {
     "data": {
      "image/png": "[encoded data removed]",
      "text/plain": [
       "<Figure size 864x432 with 1 Axes>"
      ]
     },
     "metadata": {
      "needs_background": "light"
     },
     "output_type": "display_data"
    }
   ],
   "source": [
    "import matplotlib.pyplot as plt\n",
    "\n",
    "# Bar plot of percent missing per column (only columns with missing values)\n",
    "missing_summary['Percent'].plot.bar(figsize=(12, 6))\n",
    "plt.ylabel('Percent missing')\n",
    "plt.title('Percent Missing Data per Column')\n",
    "plt.ylim(0, 100)  # Set y-axis from 0 to 100%\n",
    "plt.tight_layout()\n",
    "plt.show()"
   ]
  },
  {
   "cell_type": "code",
   "execution_count": 7,
   "id": "a1ff249f",
   "metadata": {},
   "outputs": [
    {
     "name": "stdout",
     "output_type": "stream",
     "text": [
      "New shape: (5000, 87)\n"
     ]
    }
   ],
   "source": [
    "# Extract the first 12 column names from the index of missing_summary\n",
    "cols_to_drop = missing_summary.index[:12].tolist()\n",
    "\n",
    "# Drop these columns from footballdf\n",
    "footballdf = footballdf.drop(columns=cols_to_drop)\n",
    "\n",
    "# Check new shape or columns\n",
    "print(\"New shape:\", footballdf.shape)"
   ]
  },
  {
   "cell_type": "code",
   "execution_count": 8,
   "id": "e47da58f",
   "metadata": {},
   "outputs": [],
   "source": [
    "# Creating a list of features that need values to be imputed\n",
    "cols_to_impute = missing_summary.index[12:].tolist()"
   ]
  },
  {
   "cell_type": "code",
   "execution_count": 9,
   "id": "ddfd9f5f",
   "metadata": {},
   "outputs": [
    {
     "data": {
      "text/html": [
       "<div>\n",
       "<style scoped>\n",
       "    .dataframe tbody tr th:only-of-type {\n",
       "        vertical-align: middle;\n",
       "    }\n",
       "\n",
       "    .dataframe tbody tr th {\n",
       "        vertical-align: top;\n",
       "    }\n",
       "\n",
       "    .dataframe thead th {\n",
       "        text-align: right;\n",
       "    }\n",
       "</style>\n",
       "<table border=\"1\" class=\"dataframe\">\n",
       "  <thead>\n",
       "    <tr style=\"text-align: right;\">\n",
       "      <th></th>\n",
       "      <th>Missing</th>\n",
       "      <th>Percent</th>\n",
       "      <th>Total</th>\n",
       "    </tr>\n",
       "  </thead>\n",
       "  <tbody>\n",
       "  </tbody>\n",
       "</table>\n",
       "</div>"
      ],
      "text/plain": [
       "Empty DataFrame\n",
       "Columns: [Missing, Percent, Total]\n",
       "Index: []"
      ]
     },
     "execution_count": 9,
     "metadata": {},
     "output_type": "execute_result"
    }
   ],
   "source": [
    "# Imputing the median value of the feature in missing data points\n",
    "from sklearn.impute import SimpleImputer\n",
    "imputer = SimpleImputer(strategy='median')\n",
    "footballdf[cols_to_impute] = imputer.fit_transform(footballdf[cols_to_impute])\n",
    "\n",
    "# Checking for any more missing values - there should be none\n",
    "missing_summary2 = (\n",
    "    pd.DataFrame({\n",
    "        'Missing': footballdf.isnull().sum(),\n",
    "        'Percent': footballdf.isnull().mean() * 100,\n",
    "        'Total': len(footballdf)\n",
    "    })\n",
    "    .query('Missing > 0')  # Only show columns with missing values\n",
    "    .sort_values('Missing', ascending=False)\n",
    ")\n",
    "\n",
    "missing_summary2"
   ]
  },
  {
   "cell_type": "markdown",
   "id": "6f3d204b",
   "metadata": {},
   "source": [
    "### Feature Engineering"
   ]
  },
  {
   "cell_type": "code",
   "execution_count": 10,
   "id": "552dee1d",
   "metadata": {},
   "outputs": [],
   "source": [
    "# Building a binary target variable\n",
    "footballdf['home_team_won'] = (footballdf['winner'] == footballdf['home_team_api_id']).astype(int)\n",
    "footballdf.drop('winner', axis = 1, inplace = True)"
   ]
  },
  {
   "cell_type": "code",
   "execution_count": 11,
   "id": "c70b33b3",
   "metadata": {},
   "outputs": [
    {
     "data": {
      "text/plain": [
       "(5000, 82)"
      ]
     },
     "execution_count": 11,
     "metadata": {},
     "output_type": "execute_result"
    }
   ],
   "source": [
    "# Dropping ID features\n",
    "dtdf = footballdf.drop(['match_id', 'home_team_api_id', 'away_team_api_id', 'mdatetime', 'pdatetime'], axis = 1)\n",
    "dtdf.shape"
   ]
  },
  {
   "cell_type": "code",
   "execution_count": 12,
   "id": "d808654e",
   "metadata": {},
   "outputs": [],
   "source": [
    "# Averaging the age of 11 players on home team\n",
    "home_age_cols = [f'home_player{i}_age' for i in range(1, 12)]\n",
    "footballdf['home_avg_age'] = footballdf[home_age_cols].mean(axis=1)\n",
    "\n",
    "# Averaging overall_rating of 11 players on home teams\n",
    "home_rating_cols = [f'home_player{i}_overall_rating' for i in range(1, 12)]\n",
    "footballdf['home_avg_overall_rating'] = footballdf[home_rating_cols].mean(axis=1)"
   ]
  },
  {
   "cell_type": "code",
   "execution_count": 13,
   "id": "5d1546f0",
   "metadata": {},
   "outputs": [],
   "source": [
    "# Averaging the age of 11 players on away teams\n",
    "away_age_cols = [f'away_player{i}_age' for i in range(1, 12)]\n",
    "footballdf['away_avg_age'] = footballdf[away_age_cols].mean(axis=1)\n",
    "\n",
    "# Averaging overall_rating of 11 players on away teams\n",
    "away_rating_cols = [f'away_player{i}_overall_rating' for i in range(1, 12)]\n",
    "footballdf['away_avg_overall_rating'] = footballdf[away_rating_cols].mean(axis=1)"
   ]
  },
  {
   "cell_type": "code",
   "execution_count": 14,
   "id": "c82f5b53",
   "metadata": {},
   "outputs": [
    {
     "data": {
      "text/html": [
       "<div>\n",
       "<style scoped>\n",
       "    .dataframe tbody tr th:only-of-type {\n",
       "        vertical-align: middle;\n",
       "    }\n",
       "\n",
       "    .dataframe tbody tr th {\n",
       "        vertical-align: top;\n",
       "    }\n",
       "\n",
       "    .dataframe thead th {\n",
       "        text-align: right;\n",
       "    }\n",
       "</style>\n",
       "<table border=\"1\" class=\"dataframe\">\n",
       "  <thead>\n",
       "    <tr style=\"text-align: right;\">\n",
       "      <th></th>\n",
       "      <th>country_id</th>\n",
       "      <th>home_team_average_height</th>\n",
       "      <th>home_team_average_attacking_work_rate</th>\n",
       "      <th>home_team_average_defensive_work_rate</th>\n",
       "      <th>home_team_average_fieldskills</th>\n",
       "      <th>home_team_average_shootingskills</th>\n",
       "      <th>home_team_average_physicalattributes</th>\n",
       "      <th>home_team_average_goalkeepingskills</th>\n",
       "      <th>away_team_average_height</th>\n",
       "      <th>away_team_average_attacking_work_rate</th>\n",
       "      <th>away_team_average_defensive_work_rate</th>\n",
       "      <th>away_team_average_fieldskills</th>\n",
       "      <th>away_team_average_shootingskills</th>\n",
       "      <th>away_team_average_physicalattributes</th>\n",
       "      <th>away_team_average_goalkeepingskills</th>\n",
       "      <th>home_team_won</th>\n",
       "    </tr>\n",
       "  </thead>\n",
       "  <tbody>\n",
       "    <tr>\n",
       "      <th>0</th>\n",
       "      <td>24558</td>\n",
       "      <td>180.34</td>\n",
       "      <td>21</td>\n",
       "      <td>20</td>\n",
       "      <td>52.99</td>\n",
       "      <td>48.06</td>\n",
       "      <td>65.62</td>\n",
       "      <td>15.24</td>\n",
       "      <td>182.19</td>\n",
       "      <td>20</td>\n",
       "      <td>19</td>\n",
       "      <td>51.71</td>\n",
       "      <td>45.46</td>\n",
       "      <td>63.03</td>\n",
       "      <td>15.47</td>\n",
       "      <td>0</td>\n",
       "    </tr>\n",
       "    <tr>\n",
       "      <th>1</th>\n",
       "      <td>24558</td>\n",
       "      <td>178.72</td>\n",
       "      <td>21</td>\n",
       "      <td>18</td>\n",
       "      <td>45.16</td>\n",
       "      <td>35.30</td>\n",
       "      <td>60.14</td>\n",
       "      <td>15.60</td>\n",
       "      <td>180.80</td>\n",
       "      <td>23</td>\n",
       "      <td>20</td>\n",
       "      <td>50.31</td>\n",
       "      <td>43.76</td>\n",
       "      <td>62.43</td>\n",
       "      <td>15.36</td>\n",
       "      <td>1</td>\n",
       "    </tr>\n",
       "    <tr>\n",
       "      <th>2</th>\n",
       "      <td>24558</td>\n",
       "      <td>180.34</td>\n",
       "      <td>21</td>\n",
       "      <td>20</td>\n",
       "      <td>53.81</td>\n",
       "      <td>47.88</td>\n",
       "      <td>63.27</td>\n",
       "      <td>14.25</td>\n",
       "      <td>180.80</td>\n",
       "      <td>22</td>\n",
       "      <td>19</td>\n",
       "      <td>55.43</td>\n",
       "      <td>53.85</td>\n",
       "      <td>66.25</td>\n",
       "      <td>15.15</td>\n",
       "      <td>0</td>\n",
       "    </tr>\n",
       "    <tr>\n",
       "      <th>3</th>\n",
       "      <td>24558</td>\n",
       "      <td>181.73</td>\n",
       "      <td>20</td>\n",
       "      <td>21</td>\n",
       "      <td>47.73</td>\n",
       "      <td>43.67</td>\n",
       "      <td>61.27</td>\n",
       "      <td>14.58</td>\n",
       "      <td>182.42</td>\n",
       "      <td>20</td>\n",
       "      <td>19</td>\n",
       "      <td>54.56</td>\n",
       "      <td>51.33</td>\n",
       "      <td>65.58</td>\n",
       "      <td>15.07</td>\n",
       "      <td>0</td>\n",
       "    </tr>\n",
       "    <tr>\n",
       "      <th>4</th>\n",
       "      <td>24558</td>\n",
       "      <td>181.73</td>\n",
       "      <td>20</td>\n",
       "      <td>20</td>\n",
       "      <td>51.97</td>\n",
       "      <td>43.94</td>\n",
       "      <td>62.75</td>\n",
       "      <td>14.95</td>\n",
       "      <td>182.65</td>\n",
       "      <td>20</td>\n",
       "      <td>18</td>\n",
       "      <td>49.24</td>\n",
       "      <td>42.88</td>\n",
       "      <td>59.35</td>\n",
       "      <td>13.65</td>\n",
       "      <td>1</td>\n",
       "    </tr>\n",
       "  </tbody>\n",
       "</table>\n",
       "</div>"
      ],
      "text/plain": [
       "   country_id  home_team_average_height  \\\n",
       "0       24558                    180.34   \n",
       "1       24558                    178.72   \n",
       "2       24558                    180.34   \n",
       "3       24558                    181.73   \n",
       "4       24558                    181.73   \n",
       "\n",
       "   home_team_average_attacking_work_rate  \\\n",
       "0                                     21   \n",
       "1                                     21   \n",
       "2                                     21   \n",
       "3                                     20   \n",
       "4                                     20   \n",
       "\n",
       "   home_team_average_defensive_work_rate  home_team_average_fieldskills  \\\n",
       "0                                     20                          52.99   \n",
       "1                                     18                          45.16   \n",
       "2                                     20                          53.81   \n",
       "3                                     21                          47.73   \n",
       "4                                     20                          51.97   \n",
       "\n",
       "   home_team_average_shootingskills  home_team_average_physicalattributes  \\\n",
       "0                             48.06                                 65.62   \n",
       "1                             35.30                                 60.14   \n",
       "2                             47.88                                 63.27   \n",
       "3                             43.67                                 61.27   \n",
       "4                             43.94                                 62.75   \n",
       "\n",
       "   home_team_average_goalkeepingskills  away_team_average_height  \\\n",
       "0                                15.24                    182.19   \n",
       "1                                15.60                    180.80   \n",
       "2                                14.25                    180.80   \n",
       "3                                14.58                    182.42   \n",
       "4                                14.95                    182.65   \n",
       "\n",
       "   away_team_average_attacking_work_rate  \\\n",
       "0                                     20   \n",
       "1                                     23   \n",
       "2                                     22   \n",
       "3                                     20   \n",
       "4                                     20   \n",
       "\n",
       "   away_team_average_defensive_work_rate  away_team_average_fieldskills  \\\n",
       "0                                     19                          51.71   \n",
       "1                                     20                          50.31   \n",
       "2                                     19                          55.43   \n",
       "3                                     19                          54.56   \n",
       "4                                     18                          49.24   \n",
       "\n",
       "   away_team_average_shootingskills  away_team_average_physicalattributes  \\\n",
       "0                             45.46                                 63.03   \n",
       "1                             43.76                                 62.43   \n",
       "2                             53.85                                 66.25   \n",
       "3                             51.33                                 65.58   \n",
       "4                             42.88                                 59.35   \n",
       "\n",
       "   away_team_average_goalkeepingskills  home_team_won  \n",
       "0                                15.47              0  \n",
       "1                                15.36              1  \n",
       "2                                15.15              0  \n",
       "3                                15.07              0  \n",
       "4                                13.65              1  "
      ]
     },
     "execution_count": 14,
     "metadata": {},
     "output_type": "execute_result"
    }
   ],
   "source": [
    "# List of columns to drop, including individual player id, age, and overall ratings\n",
    "cols_to_drop = [\n",
    "    'home_player_1', 'home_player1_age', 'home_player1_overall_rating',\n",
    "    'home_player_2', 'home_player2_age', 'home_player2_overall_rating',\n",
    "    'home_player_3', 'home_player3_age', 'home_player3_overall_rating',\n",
    "    'home_player_4', 'home_player4_age', 'home_player4_overall_rating',\n",
    "    'home_player_5', 'home_player5_age', 'home_player5_overall_rating',\n",
    "    'home_player_6', 'home_player6_age', 'home_player6_overall_rating',\n",
    "    'home_player_7', 'home_player7_age', 'home_player7_overall_rating',\n",
    "    'home_player_8', 'home_player8_age', 'home_player8_overall_rating',\n",
    "    'home_player_9', 'home_player9_age', 'home_player9_overall_rating',\n",
    "    'home_player_10', 'home_player10_age', 'home_player10_overall_rating',\n",
    "    'home_player_11', 'home_player11_age', 'home_player11_overall_rating',\n",
    "    'away_player_1', 'away_player1_age', 'away_player1_overall_rating',\n",
    "    'away_player_2', 'away_player2_age', 'away_player2_overall_rating',\n",
    "    'away_player_3', 'away_player3_age', 'away_player3_overall_rating',\n",
    "    'away_player_4', 'away_player4_age', 'away_player4_overall_rating',\n",
    "    'away_player_5', 'away_player5_age', 'away_player5_overall_rating',\n",
    "    'away_player_6', 'away_player6_age', 'away_player6_overall_rating',\n",
    "    'away_player_7', 'away_player7_age', 'away_player7_overall_rating',\n",
    "    'away_player_8', 'away_player8_age', 'away_player8_overall_rating',\n",
    "    'away_player_9', 'away_player9_age', 'away_player9_overall_rating',\n",
    "    'away_player_10', 'away_player10_age', 'away_player10_overall_rating',\n",
    "    'away_player_11', 'away_player11_age', 'away_player11_overall_rating'\n",
    "]\n",
    "\n",
    "# Drop specified columns from the DataFrame\n",
    "dtdf2 = dtdf.drop(columns=cols_to_drop)\n",
    "\n",
    "dtdf2.head()"
   ]
  },
  {
   "cell_type": "code",
   "execution_count": 15,
   "id": "d8e87c09",
   "metadata": {},
   "outputs": [],
   "source": [
    "dtdf2.to_csv('Europeanfootball.csv', index=False)"
   ]
  },
  {
   "cell_type": "markdown",
   "id": "eb53f544",
   "metadata": {},
   "source": [
    "### Model Building"
   ]
  },
  {
   "cell_type": "code",
   "execution_count": 99,
   "id": "140a4056",
   "metadata": {},
   "outputs": [],
   "source": [
    "# Importing ml libraries for decision tree\n",
    "from sklearn.model_selection import train_test_split\n",
    "from sklearn.tree import DecisionTreeClassifier, export_text\n",
    "from sklearn.metrics import accuracy_score"
   ]
  },
  {
   "cell_type": "code",
   "execution_count": 100,
   "id": "e07b25c0",
   "metadata": {
    "scrolled": true
   },
   "outputs": [],
   "source": [
    "# Prepare features (X) and target (y)\n",
    "X = dtdf2.drop('home_team_won', axis=1)\n",
    "y = dtdf2['home_team_won']\n",
    "\n",
    "# Split into training and test sets\n",
    "X_train, X_test, y_train, y_test = train_test_split(X, y, test_size=0.2, random_state=42)"
   ]
  },
  {
   "cell_type": "markdown",
   "id": "7eac9afb",
   "metadata": {},
   "source": [
    "#### Manually coded decision tree"
   ]
  },
  {
   "cell_type": "code",
   "execution_count": 101,
   "id": "39946db4",
   "metadata": {},
   "outputs": [],
   "source": [
    "# Function to compute the Gini impurity\n",
    "def gini_impurity(arr):\n",
    "    classes, counts = np.unique(arr, return_counts=True)\n",
    "    probabilities = counts / counts.sum()\n",
    "    gi = 1 - np.sum(probabilities ** 2)\n",
    "    return gi"
   ]
  },
  {
   "cell_type": "code",
   "execution_count": 102,
   "id": "5aa0cbd0",
   "metadata": {},
   "outputs": [
    {
     "data": {
      "text/plain": [
       "0.4940048750000001"
      ]
     },
     "execution_count": 102,
     "metadata": {},
     "output_type": "execute_result"
    }
   ],
   "source": [
    "gini_impurity(y_train)"
   ]
  },
  {
   "cell_type": "code",
   "execution_count": 103,
   "id": "d332fc7f",
   "metadata": {},
   "outputs": [],
   "source": [
    "# Function to compute the weighted average Gini impurity\n",
    "def weighted_avg_gi(y_left, y_right, n):\n",
    "    gini_left = gini_impurity(y_left)\n",
    "    gini_right = gini_impurity(y_right)\n",
    "\n",
    "    n_left = len(y_left)\n",
    "    n_right = len(y_right)\n",
    "    weighted_gini = (n_left / n) * gini_left + (n_right / n) * gini_right\n",
    "    \n",
    "    return weighted_gini"
   ]
  },
  {
   "cell_type": "code",
   "execution_count": 104,
   "id": "bc84d0c2",
   "metadata": {},
   "outputs": [],
   "source": [
    "# Find the best split point for a continuous feature column X_col with respect to the label vector y, \n",
    "# using the Gini impurity criterion.\n",
    "\n",
    "def best_gini_split(X_col, y):\n",
    "    # Sort feature values and corresponding labels\n",
    "    sorted_idx = np.argsort(X_col)\n",
    "    X_sorted = X_col[sorted_idx]\n",
    "    y_sorted = y[sorted_idx]\n",
    "    \n",
    "    # Possible split points are midpoints between unique values\n",
    "    unique_vals = np.unique(X_sorted)\n",
    "    if len(unique_vals) == 1:\n",
    "        return None, None  # No split possible\n",
    "\n",
    "    thresholds = (unique_vals[:-1] + unique_vals[1:]) / 2\n",
    "\n",
    "    best_gini = float('inf')\n",
    "    best_threshold = None\n",
    "\n",
    "    for threshold in thresholds:\n",
    "        left_mask = X_sorted <= threshold\n",
    "        right_mask = X_sorted > threshold\n",
    "\n",
    "        y_left = y_sorted[left_mask]\n",
    "        y_right = y_sorted[right_mask]\n",
    "\n",
    "        if len(y_left) == 0 or len(y_right) == 0:\n",
    "            continue  # Skip invalid splits\n",
    "\n",
    "        gini_left = gini_impurity(y_left)\n",
    "        gini_right = gini_impurity(y_right)\n",
    "\n",
    "        # Weighted average Gini impurity\n",
    "        n = len(y_sorted)\n",
    "        weighted_gini = weighted_avg_gi(y_left, y_right, n)\n",
    "\n",
    "        if weighted_gini < best_gini:\n",
    "            best_gini = weighted_gini\n",
    "            best_threshold = threshold\n",
    "\n",
    "    return best_threshold, best_gini"
   ]
  },
  {
   "cell_type": "code",
   "execution_count": 105,
   "id": "60ae200a",
   "metadata": {},
   "outputs": [],
   "source": [
    "def build_decision_tree(X, y, max_depth=None, min_samples_leaf=1, depth=0):\n",
    "    n_samples, n_features = X.shape\n",
    "    \n",
    "    # compute current node's Gini impurity and majority class\n",
    "    current_gini = gini_impurity(y)\n",
    "    majority_class = np.bincount(y).argmax()\n",
    "    \n",
    "    # Stopping criteria\n",
    "    if (max_depth is not None and depth >= max_depth) or \\\n",
    "       (n_samples <= min_samples_leaf) or (current_gini == 0):\n",
    "        return {'type': 'leaf', 'class': majority_class}\n",
    "    \n",
    "    best_feature = None\n",
    "    best_threshold = None\n",
    "    best_gini = current_gini  # use current impurity\n",
    "    \n",
    "    # feature selection loop\n",
    "    for feature in range(n_features):\n",
    "        X_col = X[:, feature]\n",
    "        threshold, split_gini = best_gini_split(X_col, y)\n",
    "        \n",
    "        # Only consider splits that improve impurity\n",
    "        if threshold is not None and split_gini < best_gini:\n",
    "            best_gini = split_gini\n",
    "            best_feature = feature\n",
    "            best_threshold = threshold\n",
    "    \n",
    "    # No split improves purity; return leaf\n",
    "    if best_gini >= current_gini:\n",
    "        return {'type': 'leaf', 'class': majority_class}\n",
    "    \n",
    "    # Split data into child nodes\n",
    "    left_mask = X[:, best_feature] <= best_threshold\n",
    "    right_mask = ~left_mask\n",
    "    \n",
    "    # Recursively build subtrees\n",
    "    left_subtree = build_decision_tree(X[left_mask], y[left_mask], max_depth, min_samples_leaf, depth + 1)\n",
    "    right_subtree = build_decision_tree(X[right_mask], y[right_mask], max_depth, min_samples_leaf, depth + 1)\n",
    "    \n",
    "    return {\n",
    "        'type': 'node',\n",
    "        'feature': best_feature,\n",
    "        'threshold': best_threshold,\n",
    "        'left': left_subtree,\n",
    "        'right': right_subtree\n",
    "    }"
   ]
  },
  {
   "cell_type": "code",
   "execution_count": 106,
   "id": "8decdc4c",
   "metadata": {},
   "outputs": [],
   "source": [
    "# Convert pd training inputs into arrays\n",
    "X1 = np.array(X_train)\n",
    "y1 = np.array(y_train)\n",
    "dtree = build_decision_tree(X1, y1, max_depth=4)"
   ]
  },
  {
   "cell_type": "markdown",
   "id": "125c3059",
   "metadata": {},
   "source": [
    "#### Decision tree building using sklearn"
   ]
  },
  {
   "cell_type": "code",
   "execution_count": 107,
   "id": "3375d38d",
   "metadata": {},
   "outputs": [
    {
     "data": {
      "text/plain": [
       "DecisionTreeClassifier(max_depth=4, random_state=42)"
      ]
     },
     "execution_count": 107,
     "metadata": {},
     "output_type": "execute_result"
    }
   ],
   "source": [
    "# Initialize and train the decision tree\n",
    "clf = DecisionTreeClassifier(max_depth = 4,random_state=42)\n",
    "clf.fit(X_train, y_train)"
   ]
  },
  {
   "cell_type": "markdown",
   "id": "a3bb6f14",
   "metadata": {},
   "source": [
    "### Predictions"
   ]
  },
  {
   "cell_type": "markdown",
   "id": "33e36597",
   "metadata": {},
   "source": [
    "#### Manually coded decision tree predictions"
   ]
  },
  {
   "cell_type": "code",
   "execution_count": 108,
   "id": "2d40e358",
   "metadata": {},
   "outputs": [],
   "source": [
    "# Predict the class for a single sample by traversing the tree.\n",
    "def predict_single(sample, node):\n",
    "    while node['type'] != 'leaf':\n",
    "        feature = node['feature']\n",
    "        threshold = node['threshold']\n",
    "        if sample[feature] <= threshold:\n",
    "            node = node['left']\n",
    "        else:\n",
    "            node = node['right']\n",
    "    return node['class']\n",
    "\n",
    "# Predict class labels for all samples in X using the decision tree.\n",
    "def treepredict(X, tree):\n",
    "    return np.array([predict_single(sample, tree) for sample in X])\n"
   ]
  },
  {
   "cell_type": "code",
   "execution_count": 109,
   "id": "7cfb01a5",
   "metadata": {},
   "outputs": [],
   "source": [
    "# Convert pd testing inputs into arrays\n",
    "X2 = np.array(X_test)\n",
    "manual_ypred = treepredict(X2,dtree)"
   ]
  },
  {
   "cell_type": "markdown",
   "id": "164f0b8e",
   "metadata": {},
   "source": [
    "#### Decision tree predictions using sklearn"
   ]
  },
  {
   "cell_type": "code",
   "execution_count": 110,
   "id": "8a51d75c",
   "metadata": {},
   "outputs": [],
   "source": [
    "# Predict class of X_Test values\n",
    "y_pred = clf.predict(X_test)"
   ]
  },
  {
   "cell_type": "markdown",
   "id": "d26efae4",
   "metadata": {},
   "source": [
    "### Model Evaluations"
   ]
  },
  {
   "cell_type": "markdown",
   "id": "5b58b790",
   "metadata": {},
   "source": [
    "#### Evaluating manually coded decision tree predictions"
   ]
  },
  {
   "cell_type": "code",
   "execution_count": 111,
   "id": "2ffe45ad",
   "metadata": {},
   "outputs": [
    {
     "name": "stdout",
     "output_type": "stream",
     "text": [
      "Accuracy: 0.65\n",
      "[[476  82]\n",
      " [270 172]]\n",
      "              precision    recall  f1-score   support\n",
      "\n",
      "           0       0.64      0.85      0.73       558\n",
      "           1       0.68      0.39      0.49       442\n",
      "\n",
      "    accuracy                           0.65      1000\n",
      "   macro avg       0.66      0.62      0.61      1000\n",
      "weighted avg       0.66      0.65      0.63      1000\n",
      "\n"
     ]
    }
   ],
   "source": [
    "from sklearn.metrics import accuracy_score, classification_report, confusion_matrix\n",
    "accuracy = accuracy_score(y_test, manual_ypred)\n",
    "print(f\"Accuracy: {accuracy:.2f}\")\n",
    "\n",
    "print(confusion_matrix(y_test, manual_ypred))\n",
    "print(classification_report(y_test, manual_ypred))"
   ]
  },
  {
   "cell_type": "markdown",
   "id": "925a47c2",
   "metadata": {},
   "source": [
    "#### Evaluating sklearn decision tree predictions"
   ]
  },
  {
   "cell_type": "code",
   "execution_count": 112,
   "id": "a6b1c865",
   "metadata": {},
   "outputs": [
    {
     "name": "stdout",
     "output_type": "stream",
     "text": [
      "Accuracy: 0.65\n",
      "[[476  82]\n",
      " [270 172]]\n",
      "              precision    recall  f1-score   support\n",
      "\n",
      "           0       0.64      0.85      0.73       558\n",
      "           1       0.68      0.39      0.49       442\n",
      "\n",
      "    accuracy                           0.65      1000\n",
      "   macro avg       0.66      0.62      0.61      1000\n",
      "weighted avg       0.66      0.65      0.63      1000\n",
      "\n"
     ]
    }
   ],
   "source": [
    "accuracy2 = accuracy_score(y_test, y_pred)\n",
    "print(f\"Accuracy: {accuracy2:.2f}\")\n",
    "\n",
    "print(confusion_matrix(y_test, y_pred))\n",
    "print(classification_report(y_test, y_pred))"
   ]
  },
  {
   "cell_type": "markdown",
   "id": "1cbcc7bd",
   "metadata": {},
   "source": [
    "### Tree Structure Visualizations"
   ]
  },
  {
   "cell_type": "markdown",
   "id": "a367423c",
   "metadata": {},
   "source": [
    "#### Visualizing manually coded decision tree"
   ]
  },
  {
   "cell_type": "code",
   "execution_count": 113,
   "id": "fb9fca9d",
   "metadata": {},
   "outputs": [
    {
     "data": {
      "text/plain": [
       "{'type': 'node',\n",
       " 'feature': 4,\n",
       " 'threshold': 60.935,\n",
       " 'left': {'type': 'node',\n",
       "  'feature': 13,\n",
       "  'threshold': 66.655,\n",
       "  'left': {'type': 'node',\n",
       "   'feature': 6,\n",
       "   'threshold': 64.215,\n",
       "   'left': {'type': 'node',\n",
       "    'feature': 11,\n",
       "    'threshold': 50.325,\n",
       "    'left': {'type': 'leaf', 'class': 0},\n",
       "    'right': {'type': 'leaf', 'class': 0}},\n",
       "   'right': {'type': 'node',\n",
       "    'feature': 11,\n",
       "    'threshold': 53.275000000000006,\n",
       "    'left': {'type': 'leaf', 'class': 1},\n",
       "    'right': {'type': 'leaf', 'class': 0}}},\n",
       "  'right': {'type': 'node',\n",
       "   'feature': 5,\n",
       "   'threshold': 52.345,\n",
       "   'left': {'type': 'node',\n",
       "    'feature': 4,\n",
       "    'threshold': 55.83,\n",
       "    'left': {'type': 'leaf', 'class': 0},\n",
       "    'right': {'type': 'leaf', 'class': 0}},\n",
       "   'right': {'type': 'node',\n",
       "    'feature': 11,\n",
       "    'threshold': 61.985,\n",
       "    'left': {'type': 'leaf', 'class': 0},\n",
       "    'right': {'type': 'leaf', 'class': 0}}}},\n",
       " 'right': {'type': 'node',\n",
       "  'feature': 11,\n",
       "  'threshold': 61.870000000000005,\n",
       "  'left': {'type': 'node',\n",
       "   'feature': 4,\n",
       "   'threshold': 65.19,\n",
       "   'left': {'type': 'node',\n",
       "    'feature': 13,\n",
       "    'threshold': 64.465,\n",
       "    'left': {'type': 'leaf', 'class': 1},\n",
       "    'right': {'type': 'leaf', 'class': 1}},\n",
       "   'right': {'type': 'node',\n",
       "    'feature': 11,\n",
       "    'threshold': 53.545,\n",
       "    'left': {'type': 'leaf', 'class': 0},\n",
       "    'right': {'type': 'leaf', 'class': 1}}},\n",
       "  'right': {'type': 'node',\n",
       "   'feature': 4,\n",
       "   'threshold': 65.0,\n",
       "   'left': {'type': 'node',\n",
       "    'feature': 5,\n",
       "    'threshold': 53.515,\n",
       "    'left': {'type': 'leaf', 'class': 1},\n",
       "    'right': {'type': 'leaf', 'class': 0}},\n",
       "   'right': {'type': 'node',\n",
       "    'feature': 8,\n",
       "    'threshold': 180.225,\n",
       "    'left': {'type': 'leaf', 'class': 0},\n",
       "    'right': {'type': 'leaf', 'class': 1}}}}}"
      ]
     },
     "execution_count": 113,
     "metadata": {},
     "output_type": "execute_result"
    }
   ],
   "source": [
    "# Viewing the structure of the manually built tree\n",
    "dtree"
   ]
  },
  {
   "cell_type": "code",
   "execution_count": 114,
   "id": "3cbbf1e4",
   "metadata": {},
   "outputs": [],
   "source": [
    "# Visualizing tree\n",
    "from graphviz import Source\n",
    "\n",
    "def get_fillcolor(is_leaf, predicted_class):\n",
    "    if not is_leaf:\n",
    "        return \"#fcf0b8\"  # white for split nodes\n",
    "    return \"#f0c7c6\" if predicted_class == 0 else \"#90c8f0\"  # red or blue-ish for leaves\n",
    "\n",
    "def dict_to_dot(tree, dot_lines, node_counter, feature_names, class_names, parent=None, edge_label=''):\n",
    "    node_id = node_counter[0]\n",
    "    node_counter[0] += 1\n",
    "\n",
    "    if tree['type'] == 'leaf':\n",
    "        class_name = class_names[tree['class']]\n",
    "        label = f'class = {class_name}'\n",
    "        fillcolor = get_fillcolor(True, tree['class'])\n",
    "    else:\n",
    "        feature_label = feature_names[tree[\"feature\"]]\n",
    "        label = f'{feature_label} ≤ {tree[\"threshold\"]:.2f}'\n",
    "        fillcolor = get_fillcolor(False, None)\n",
    "\n",
    "    dot_lines.append(\n",
    "        f'  node{node_id} [label=\"{label}\", style=filled, fillcolor=\"{fillcolor}\", shape=box, fontname=\"helvetica\", fontsize=12, penwidth=1.5, rounded=true];'\n",
    "    )\n",
    "\n",
    "    if parent is not None:\n",
    "        dot_lines.append(f'  node{parent} -> node{node_id} [label=\"{edge_label}\"];')\n",
    "\n",
    "    if tree['type'] != 'leaf':\n",
    "        dict_to_dot(tree['left'], dot_lines, node_counter, feature_names, class_names, parent=node_id, edge_label='True')\n",
    "        dict_to_dot(tree['right'], dot_lines, node_counter, feature_names, class_names, parent=node_id, edge_label='False')\n",
    "\n",
    "def visualize_tree(tree_dict, feature_names, class_names=['0', '1']):\n",
    "    dot_lines = [\n",
    "        'digraph Tree {',\n",
    "        '  node [shape=box, fontname=\"helvetica\"];'\n",
    "    ]\n",
    "    node_counter = [0]\n",
    "    dict_to_dot(tree_dict, dot_lines, node_counter, feature_names, class_names)\n",
    "    dot_lines.append('}')\n",
    "    dot_string = '\\n'.join(dot_lines)\n",
    "    return Source(dot_string)\n"
   ]
  },
  {
   "cell_type": "code",
   "execution_count": 118,
   "id": "12f27636",
   "metadata": {},
   "outputs": [
    {
     "data": {
      "text/plain": [
       "'Source.gv.pdf'"
      ]
     },
     "execution_count": 118,
     "metadata": {},
     "output_type": "execute_result"
    }
   ],
   "source": [
    "class_names = ['Lost', 'Won']\n",
    "\n",
    "tree_viz = visualize_tree(dtree, fn, class_names)\n",
    "tree_viz.view()"
   ]
  },
  {
   "cell_type": "markdown",
   "id": "3f12b30d",
   "metadata": {},
   "source": [
    "#### Visualizing sklearn decision tree"
   ]
  },
  {
   "cell_type": "code",
   "execution_count": 116,
   "id": "0a2e7b82",
   "metadata": {},
   "outputs": [
    {
     "data": {
      "image/png": "[encoded data removed]",
      "text/plain": [
       "<Figure size 864x576 with 1 Axes>"
      ]
     },
     "metadata": {
      "needs_background": "light"
     },
     "output_type": "display_data"
    }
   ],
   "source": [
    "# Plotting the SKLEARN tree\n",
    "from sklearn.tree import plot_tree\n",
    "# Get the feature names from your DataFrame\n",
    "fn = X.columns.tolist()\n",
    "\n",
    "plt.figure(figsize=(12, 8))\n",
    "plot_tree(clf, filled=True, feature_names=fn, class_names=['Lost', 'Won'])\n",
    "plt.show()"
   ]
  },
  {
   "cell_type": "code",
   "execution_count": 117,
   "id": "3c3fc88b",
   "metadata": {},
   "outputs": [
    {
     "name": "stdout",
     "output_type": "stream",
     "text": [
      "|--- home_team_average_fieldskills <= 60.93\n",
      "|   |--- away_team_average_physicalattributes <= 66.66\n",
      "|   |   |--- home_team_average_physicalattributes <= 64.22\n",
      "|   |   |   |--- away_team_average_fieldskills <= 50.33\n",
      "|   |   |   |   |--- class: 0\n",
      "|   |   |   |--- away_team_average_fieldskills >  50.33\n",
      "|   |   |   |   |--- class: 0\n",
      "|   |   |--- home_team_average_physicalattributes >  64.22\n",
      "|   |   |   |--- away_team_average_fieldskills <= 53.27\n",
      "|   |   |   |   |--- class: 1\n",
      "|   |   |   |--- away_team_average_fieldskills >  53.27\n",
      "|   |   |   |   |--- class: 0\n",
      "|   |--- away_team_average_physicalattributes >  66.66\n",
      "|   |   |--- home_team_average_shootingskills <= 52.35\n",
      "|   |   |   |--- home_team_average_fieldskills <= 55.83\n",
      "|   |   |   |   |--- class: 0\n",
      "|   |   |   |--- home_team_average_fieldskills >  55.83\n",
      "|   |   |   |   |--- class: 0\n",
      "|   |   |--- home_team_average_shootingskills >  52.35\n",
      "|   |   |   |--- away_team_average_fieldskills <= 61.99\n",
      "|   |   |   |   |--- class: 0\n",
      "|   |   |   |--- away_team_average_fieldskills >  61.99\n",
      "|   |   |   |   |--- class: 0\n",
      "|--- home_team_average_fieldskills >  60.93\n",
      "|   |--- away_team_average_fieldskills <= 61.87\n",
      "|   |   |--- home_team_average_fieldskills <= 65.19\n",
      "|   |   |   |--- away_team_average_physicalattributes <= 64.47\n",
      "|   |   |   |   |--- class: 1\n",
      "|   |   |   |--- away_team_average_physicalattributes >  64.47\n",
      "|   |   |   |   |--- class: 1\n",
      "|   |   |--- home_team_average_fieldskills >  65.19\n",
      "|   |   |   |--- away_team_average_fieldskills <= 53.55\n",
      "|   |   |   |   |--- class: 0\n",
      "|   |   |   |--- away_team_average_fieldskills >  53.55\n",
      "|   |   |   |   |--- class: 1\n",
      "|   |--- away_team_average_fieldskills >  61.87\n",
      "|   |   |--- home_team_average_fieldskills <= 65.00\n",
      "|   |   |   |--- home_team_average_shootingskills <= 53.51\n",
      "|   |   |   |   |--- class: 1\n",
      "|   |   |   |--- home_team_average_shootingskills >  53.51\n",
      "|   |   |   |   |--- class: 0\n",
      "|   |   |--- home_team_average_fieldskills >  65.00\n",
      "|   |   |   |--- away_team_average_height <= 180.23\n",
      "|   |   |   |   |--- class: 0\n",
      "|   |   |   |--- away_team_average_height >  180.23\n",
      "|   |   |   |   |--- class: 1\n",
      "\n"
     ]
    }
   ],
   "source": [
    "# Print the tree structure with feature names\n",
    "tree_rules = export_text(clf, feature_names=fn)\n",
    "print(tree_rules)"
   ]
  },
  {
   "cell_type": "code",
   "execution_count": 32,
   "id": "a1684536",
   "metadata": {},
   "outputs": [
    {
     "data": {
      "text/plain": [
       "'soccer_tree.pdf'"
      ]
     },
     "execution_count": 32,
     "metadata": {},
     "output_type": "execute_result"
    }
   ],
   "source": [
    "from sklearn.tree \n",
    "import export_graphviz\n",
    "import graphviz\n",
    "import os\n",
    "os.environ[\"PATH\"] += os.pathsep + \"/opt/homebrew/bin\"\n",
    "\n",
    "dot_data = export_graphviz(\n",
    "    clf,\n",
    "    out_file=None,\n",
    "    feature_names=fn,\n",
    "    class_names= ['Lost', 'Won'],\n",
    "    filled=True,\n",
    "    rounded=True,\n",
    "    special_characters=True\n",
    ")\n",
    "graph = graphviz.Source(dot_data)\n",
    "graph.render(\"soccer_tree\") \n",
    "graph.view()"
   ]
  },
  {
   "cell_type": "code",
   "execution_count": null,
   "id": "92ad7098",
   "metadata": {},
   "outputs": [],
   "source": []
  },
  {
   "cell_type": "code",
   "execution_count": null,
   "id": "0c355f85",
   "metadata": {},
   "outputs": [],
   "source": []
  }
 ],
 "metadata": {
  "kernelspec": {
   "display_name": "Python 3 (ipykernel)",
   "language": "python",
   "name": "python3"
  },
  "language_info": {
   "codemirror_mode": {
    "name": "ipython",
    "version": 3
   },
   "file_extension": ".py",
   "mimetype": "text/x-python",
   "name": "python",
   "nbconvert_exporter": "python",
   "pygments_lexer": "ipython3",
   "version": "3.9.12"
  }
 },
 "nbformat": 4,
 "nbformat_minor": 5
}
